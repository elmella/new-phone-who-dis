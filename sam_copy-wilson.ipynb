{
 "cells": [
  {
   "cell_type": "code",
   "execution_count": 19,
   "metadata": {},
   "outputs": [],
   "source": [
    "import numpy as np\n",
    "import pandas as pd\n",
    "import matplotlib.pyplot as plt\n",
    "from hmmlearn import hmm\n",
    "from sklearn.metrics import confusion_matrix\n",
    "from sklearn.mixture import GaussianMixture\n",
    "from sklearn.cluster import KMeans\n",
    "import os\n",
    "import nltk\n",
    "import warnings\n",
    "\n",
    "warnings.filterwarnings(\"ignore\")"
   ]
  },
  {
   "cell_type": "markdown",
   "metadata": {},
   "source": [
    "##### Data cleaning and descriptive statistics checkpoint:\n",
    "\n",
    "For this assignment, you need to report your initial data exploration. Consider some of the following points as examples. Upload a Notebook with comments describing what you discovered. The emphasis here is not on perfect formatting, but on showing that you have done your due diligence in exploring the data and thinking through the consequences of what you see.\n",
    "\n",
    "- Before doing any exploration, consider when and how you plan on holding out data for model evaluation. The gold standard is to have totally independent data you have never seen before tucked away so you can evaluate model performance at the end, but there can be many reasons this may not work. Explain your choice. If you do want to hold out the same data every time, consider fixing a random seed when you make the test-train split.\n",
    "    - Beware that a test set for time-series data is trickier to build than for independent data points.  If you have training data just before and just after the test data point, the correlation between them means the test depends a lot on the training data and hence is a bad test.  At least ensure your test set comes after your training data, and ideally in a separate data-collection session. \n",
    "- Print out a few dozen rows of the data. Is there anything you didn't expect to see? What opportunities for data cleaning and feature engineering may be important? Take care of these things.\n",
    "- Plot a few individual time series and do a similar check. Is there anything unbelievable you see?\n",
    "- How much data is missing? Is the distribution of missing data likely different from the distribution of non-missing data? How might you do a meaningful imputation (if needed)? Are there variables that should be dropped? Implement some initial solutions.\n",
    "- Is there any hint that the data you have collected is differently distributed from the actual application of interest? If so, is there a strategy, such as reweighing samples, that might help?\n",
    "Use a histogram or KDE to visualize the distribution of key variables. Consider log-scaling or other scaling of the axes. How should you think about outliers? Is there a natural scaling for certain variables?\n",
    "- Use 2D and/or 3D plot scatter plots, histograms, or heat maps to look for important relationships between variables. Consider using significance tests, linear model fits, or correlation matrices to clarify relationships.\n",
    "- Does what you see change any of your ideas for what models might be appropriate? Among other things, if your models rely on specific assumptions, is there a way you can check if these assumptions actually hold by looking at the data? If you are using linear models, do the relevant plots look linear? Is there some other scaling where the model assumptions might more nearly hold?"
   ]
  },
  {
   "cell_type": "markdown",
   "metadata": {},
   "source": [
    "## This dataset consists of 140K+ NPR radio transcripts (from npr.org) covering 20 years of NPR programs, comprising the transcriptions of 10K+ hours of audio."
   ]
  },
  {
   "cell_type": "markdown",
   "metadata": {},
   "source": [
    "# Model Evaluation\n",
    "\n",
    "Out dataset is naturally split into episodes. To evaluate our model, we will leave out a certain percentage of episodes to train the model, then test our model on entire episodes to see how successfully we can identify different speakers.\n",
    "\n",
    "This will be ideal. Training on the same episode would fail to provide independent enough data, giving us too much information with the sentence before and after a test sentence. However, by using separate episodes, we are considering a separate data-collection session."
   ]
  },
  {
   "cell_type": "code",
   "execution_count": 7,
   "metadata": {},
   "outputs": [],
   "source": [
    "# load the data\n",
    "path = os.getcwd()\n",
    "df = pd.read_csv(f'{path}/archive/utterances.csv')\n",
    "\n",
    "# remove all speakers labeled as _NO_SPEAKER\n",
    "df = df[df['speaker'] != '_NO_SPEAKER']"
   ]
  },
  {
   "cell_type": "code",
   "execution_count": 8,
   "metadata": {},
   "outputs": [
    {
     "data": {
      "text/html": [
       "<div>\n",
       "<style scoped>\n",
       "    .dataframe tbody tr th:only-of-type {\n",
       "        vertical-align: middle;\n",
       "    }\n",
       "\n",
       "    .dataframe tbody tr th {\n",
       "        vertical-align: top;\n",
       "    }\n",
       "\n",
       "    .dataframe thead th {\n",
       "        text-align: right;\n",
       "    }\n",
       "</style>\n",
       "<table border=\"1\" class=\"dataframe\">\n",
       "  <thead>\n",
       "    <tr style=\"text-align: right;\">\n",
       "      <th></th>\n",
       "      <th>episode</th>\n",
       "      <th>episode_order</th>\n",
       "      <th>speaker</th>\n",
       "      <th>utterance</th>\n",
       "    </tr>\n",
       "  </thead>\n",
       "  <tbody>\n",
       "    <tr>\n",
       "      <th>0</th>\n",
       "      <td>57264</td>\n",
       "      <td>9</td>\n",
       "      <td>Ms. LOREN MOONEY (Editor-in-Chief, Bicycling M...</td>\n",
       "      <td>It's a 2,200-mile race. To give some sense of ...</td>\n",
       "    </tr>\n",
       "    <tr>\n",
       "      <th>1</th>\n",
       "      <td>57264</td>\n",
       "      <td>10</td>\n",
       "      <td>Ms. LOREN MOONEY (Editor-in-Chief, Bicycling M...</td>\n",
       "      <td>So for a top competitor like Lance to try to m...</td>\n",
       "    </tr>\n",
       "    <tr>\n",
       "      <th>2</th>\n",
       "      <td>57264</td>\n",
       "      <td>11</td>\n",
       "      <td>NEAL CONAN, host</td>\n",
       "      <td>So in every team, presumably there's one star,...</td>\n",
       "    </tr>\n",
       "    <tr>\n",
       "      <th>3</th>\n",
       "      <td>57264</td>\n",
       "      <td>12</td>\n",
       "      <td>Ms. LOREN MOONEY (Editor-in-Chief, Bicycling M...</td>\n",
       "      <td>That's right. Each team has nine riders. And w...</td>\n",
       "    </tr>\n",
       "    <tr>\n",
       "      <th>4</th>\n",
       "      <td>57264</td>\n",
       "      <td>13</td>\n",
       "      <td>NEAL CONAN, host</td>\n",
       "      <td>So slipstream, this is like drafting in car ra...</td>\n",
       "    </tr>\n",
       "    <tr>\n",
       "      <th>5</th>\n",
       "      <td>57264</td>\n",
       "      <td>14</td>\n",
       "      <td>Ms. LOREN MOONEY (Editor-in-Chief, Bicycling M...</td>\n",
       "      <td>That's exactly right.</td>\n",
       "    </tr>\n",
       "    <tr>\n",
       "      <th>6</th>\n",
       "      <td>57264</td>\n",
       "      <td>15</td>\n",
       "      <td>NEAL CONAN, host</td>\n",
       "      <td>And so the guy who's in back has an easier tim...</td>\n",
       "    </tr>\n",
       "    <tr>\n",
       "      <th>7</th>\n",
       "      <td>57264</td>\n",
       "      <td>16</td>\n",
       "      <td>Ms. LOREN MOONEY (Editor-in-Chief, Bicycling M...</td>\n",
       "      <td>That's right. There's a lot of deal making tha...</td>\n",
       "    </tr>\n",
       "    <tr>\n",
       "      <th>8</th>\n",
       "      <td>57264</td>\n",
       "      <td>17</td>\n",
       "      <td>NEAL CONAN, host</td>\n",
       "      <td>We're talking with Loren Mooney, the editor-in...</td>\n",
       "    </tr>\n",
       "    <tr>\n",
       "      <th>9</th>\n",
       "      <td>57264</td>\n",
       "      <td>18</td>\n",
       "      <td>JOHN (Caller)</td>\n",
       "      <td>Hello.</td>\n",
       "    </tr>\n",
       "  </tbody>\n",
       "</table>\n",
       "</div>"
      ],
      "text/plain": [
       "   episode  episode_order                                            speaker  \\\n",
       "0    57264              9  Ms. LOREN MOONEY (Editor-in-Chief, Bicycling M...   \n",
       "1    57264             10  Ms. LOREN MOONEY (Editor-in-Chief, Bicycling M...   \n",
       "2    57264             11                                   NEAL CONAN, host   \n",
       "3    57264             12  Ms. LOREN MOONEY (Editor-in-Chief, Bicycling M...   \n",
       "4    57264             13                                   NEAL CONAN, host   \n",
       "5    57264             14  Ms. LOREN MOONEY (Editor-in-Chief, Bicycling M...   \n",
       "6    57264             15                                   NEAL CONAN, host   \n",
       "7    57264             16  Ms. LOREN MOONEY (Editor-in-Chief, Bicycling M...   \n",
       "8    57264             17                                   NEAL CONAN, host   \n",
       "9    57264             18                                      JOHN (Caller)   \n",
       "\n",
       "                                           utterance  \n",
       "0  It's a 2,200-mile race. To give some sense of ...  \n",
       "1  So for a top competitor like Lance to try to m...  \n",
       "2  So in every team, presumably there's one star,...  \n",
       "3  That's right. Each team has nine riders. And w...  \n",
       "4  So slipstream, this is like drafting in car ra...  \n",
       "5                              That's exactly right.  \n",
       "6  And so the guy who's in back has an easier tim...  \n",
       "7  That's right. There's a lot of deal making tha...  \n",
       "8  We're talking with Loren Mooney, the editor-in...  \n",
       "9                                             Hello.  "
      ]
     },
     "metadata": {},
     "output_type": "display_data"
    }
   ],
   "source": [
    "display(df.head(10))"
   ]
  },
  {
   "cell_type": "markdown",
   "metadata": {},
   "source": [
    "## Explanation of the data:\n",
    "\n",
    "### episode: The id representing the episode\n",
    "### episode_order: The index of the turn speaking in the episode. The utterance should pertain to episode_order 1\n",
    "### speaker: The name of the speaker\n",
    "### utterance: The actual spoken text. When a different individual begins to speak, the row ends and another begins"
   ]
  },
  {
   "cell_type": "code",
   "execution_count": 9,
   "metadata": {},
   "outputs": [
    {
     "name": "stdout",
     "output_type": "stream",
     "text": [
      "Episode: 57264\n",
      "Speakers: 6\n"
     ]
    },
    {
     "data": {
      "image/png": "[encoded data removed]",
      "text/plain": [
       "<Figure size 432x288 with 1 Axes>"
      ]
     },
     "metadata": {
      "needs_background": "light"
     },
     "output_type": "display_data"
    },
    {
     "name": "stdout",
     "output_type": "stream",
     "text": [
      "Episode: 58225\n",
      "Speakers: 8\n"
     ]
    },
    {
     "data": {
      "image/png": "[encoded data removed]",
      "text/plain": [
       "<Figure size 432x288 with 1 Axes>"
      ]
     },
     "metadata": {
      "needs_background": "light"
     },
     "output_type": "display_data"
    },
    {
     "name": "stdout",
     "output_type": "stream",
     "text": [
      "Episode: 75004\n",
      "Speakers: 4\n"
     ]
    },
    {
     "data": {
      "image/png": "[encoded data removed]",
      "text/plain": [
       "<Figure size 432x288 with 1 Axes>"
      ]
     },
     "metadata": {
      "needs_background": "light"
     },
     "output_type": "display_data"
    },
    {
     "name": "stdout",
     "output_type": "stream",
     "text": [
      "Episode: 74884\n",
      "Speakers: 2\n"
     ]
    },
    {
     "data": {
      "image/png": "[encoded data removed]",
      "text/plain": [
       "<Figure size 432x288 with 1 Axes>"
      ]
     },
     "metadata": {
      "needs_background": "light"
     },
     "output_type": "display_data"
    }
   ],
   "source": [
    "def plot_speaker_distribution_for_episode(df, episode):\n",
    "\n",
    "    # print the episode\n",
    "    print('Episode:', episode)\n",
    "\n",
    "    # Filter the dataframe for the specific episode\n",
    "    df_episode = df[df['episode'] == episode]\n",
    "\n",
    "    # print the amount of speakers\n",
    "    print('Speakers:', len(df_episode['speaker'].unique()))\n",
    "\n",
    "    # Group by 'speaker' and count the number of rows\n",
    "    speaker_counts = df_episode['speaker'].value_counts()\n",
    "\n",
    "    # Plot a bar chart\n",
    "    speaker_counts.plot(kind='bar')\n",
    "    plt.ylabel('Number of utterances')\n",
    "    plt.title(f'Distribution of utterances per speaker for episode {episode}')\n",
    "    plt.show()\n",
    "\n",
    "# iterate through the first 10 episodes\n",
    "for episode in df['episode'].unique()[:4]:\n",
    "    plot_speaker_distribution_for_episode(df, episode)"
   ]
  },
  {
   "cell_type": "markdown",
   "metadata": {},
   "source": [
    "### We will find that the distribution of speakers is not equally split. Because many of these conversations are interviews, we will find one speaker overwhelmingly dominates the conversation. Further, outside callers into the show will imply that the members of a conversation vary as callers join and leave the conversation"
   ]
  },
  {
   "cell_type": "code",
   "execution_count": 10,
   "metadata": {},
   "outputs": [],
   "source": [
    "df2sp = pd.read_csv('archive/utterances-2sp.csv')"
   ]
  },
  {
   "cell_type": "code",
   "execution_count": 11,
   "metadata": {},
   "outputs": [
    {
     "data": {
      "text/html": [
       "<div>\n",
       "<style scoped>\n",
       "    .dataframe tbody tr th:only-of-type {\n",
       "        vertical-align: middle;\n",
       "    }\n",
       "\n",
       "    .dataframe tbody tr th {\n",
       "        vertical-align: top;\n",
       "    }\n",
       "\n",
       "    .dataframe thead th {\n",
       "        text-align: right;\n",
       "    }\n",
       "</style>\n",
       "<table border=\"1\" class=\"dataframe\">\n",
       "  <thead>\n",
       "    <tr style=\"text-align: right;\">\n",
       "      <th></th>\n",
       "      <th>episode</th>\n",
       "      <th>episode_order</th>\n",
       "      <th>turn_order</th>\n",
       "      <th>speaker_order</th>\n",
       "      <th>host_id</th>\n",
       "      <th>is_host</th>\n",
       "      <th>utterance</th>\n",
       "    </tr>\n",
       "  </thead>\n",
       "  <tbody>\n",
       "    <tr>\n",
       "      <th>0</th>\n",
       "      <td>1</td>\n",
       "      <td>1</td>\n",
       "      <td>0</td>\n",
       "      <td>0</td>\n",
       "      <td>0</td>\n",
       "      <td>True</td>\n",
       "      <td>The impeachment inquiry picks up tomorrow wher...</td>\n",
       "    </tr>\n",
       "    <tr>\n",
       "      <th>1</th>\n",
       "      <td>1</td>\n",
       "      <td>1</td>\n",
       "      <td>1</td>\n",
       "      <td>0</td>\n",
       "      <td>0</td>\n",
       "      <td>True</td>\n",
       "      <td>Just this morning, the lawyer for the whistleb...</td>\n",
       "    </tr>\n",
       "    <tr>\n",
       "      <th>2</th>\n",
       "      <td>1</td>\n",
       "      <td>1</td>\n",
       "      <td>2</td>\n",
       "      <td>0</td>\n",
       "      <td>0</td>\n",
       "      <td>True</td>\n",
       "      <td>There's are a lot of moving parts.</td>\n",
       "    </tr>\n",
       "    <tr>\n",
       "      <th>3</th>\n",
       "      <td>1</td>\n",
       "      <td>1</td>\n",
       "      <td>3</td>\n",
       "      <td>0</td>\n",
       "      <td>0</td>\n",
       "      <td>True</td>\n",
       "      <td>Fortunately, NPR's Mara Liasson is here to help.</td>\n",
       "    </tr>\n",
       "    <tr>\n",
       "      <th>4</th>\n",
       "      <td>1</td>\n",
       "      <td>2</td>\n",
       "      <td>0</td>\n",
       "      <td>0</td>\n",
       "      <td>0</td>\n",
       "      <td>True</td>\n",
       "      <td>Good morning.</td>\n",
       "    </tr>\n",
       "    <tr>\n",
       "      <th>5</th>\n",
       "      <td>1</td>\n",
       "      <td>3</td>\n",
       "      <td>0</td>\n",
       "      <td>1</td>\n",
       "      <td>-1</td>\n",
       "      <td>False</td>\n",
       "      <td>Good morning, Lulu.</td>\n",
       "    </tr>\n",
       "    <tr>\n",
       "      <th>6</th>\n",
       "      <td>1</td>\n",
       "      <td>4</td>\n",
       "      <td>0</td>\n",
       "      <td>0</td>\n",
       "      <td>0</td>\n",
       "      <td>True</td>\n",
       "      <td>All right.</td>\n",
       "    </tr>\n",
       "    <tr>\n",
       "      <th>7</th>\n",
       "      <td>1</td>\n",
       "      <td>4</td>\n",
       "      <td>1</td>\n",
       "      <td>0</td>\n",
       "      <td>0</td>\n",
       "      <td>True</td>\n",
       "      <td>What's the latest?</td>\n",
       "    </tr>\n",
       "    <tr>\n",
       "      <th>8</th>\n",
       "      <td>1</td>\n",
       "      <td>5</td>\n",
       "      <td>0</td>\n",
       "      <td>1</td>\n",
       "      <td>-1</td>\n",
       "      <td>False</td>\n",
       "      <td>Well, the latest is that the lawyer for the fi...</td>\n",
       "    </tr>\n",
       "    <tr>\n",
       "      <th>9</th>\n",
       "      <td>1</td>\n",
       "      <td>5</td>\n",
       "      <td>1</td>\n",
       "      <td>1</td>\n",
       "      <td>-1</td>\n",
       "      <td>False</td>\n",
       "      <td>The first whistleblower only had second and th...</td>\n",
       "    </tr>\n",
       "  </tbody>\n",
       "</table>\n",
       "</div>"
      ],
      "text/plain": [
       "   episode  episode_order  turn_order  speaker_order  host_id  is_host  \\\n",
       "0        1              1           0              0        0     True   \n",
       "1        1              1           1              0        0     True   \n",
       "2        1              1           2              0        0     True   \n",
       "3        1              1           3              0        0     True   \n",
       "4        1              2           0              0        0     True   \n",
       "5        1              3           0              1       -1    False   \n",
       "6        1              4           0              0        0     True   \n",
       "7        1              4           1              0        0     True   \n",
       "8        1              5           0              1       -1    False   \n",
       "9        1              5           1              1       -1    False   \n",
       "\n",
       "                                           utterance  \n",
       "0  The impeachment inquiry picks up tomorrow wher...  \n",
       "1  Just this morning, the lawyer for the whistleb...  \n",
       "2                 There's are a lot of moving parts.  \n",
       "3   Fortunately, NPR's Mara Liasson is here to help.  \n",
       "4                                      Good morning.  \n",
       "5                                Good morning, Lulu.  \n",
       "6                                         All right.  \n",
       "7                                 What's the latest?  \n",
       "8  Well, the latest is that the lawyer for the fi...  \n",
       "9  The first whistleblower only had second and th...  "
      ]
     },
     "metadata": {},
     "output_type": "display_data"
    }
   ],
   "source": [
    "display(df2sp.head(10))"
   ]
  },
  {
   "cell_type": "markdown",
   "metadata": {},
   "source": [
    "### This is an alternative dataset of just 2-person conversations. This dataset limits what we are modeling to just 2 different speakers, but will avoid the issue of variable participants in a conversation"
   ]
  },
  {
   "cell_type": "code",
   "execution_count": 12,
   "metadata": {},
   "outputs": [
    {
     "name": "stdout",
     "output_type": "stream",
     "text": [
      "3015435\n"
     ]
    },
    {
     "data": {
      "text/html": [
       "<div>\n",
       "<style scoped>\n",
       "    .dataframe tbody tr th:only-of-type {\n",
       "        vertical-align: middle;\n",
       "    }\n",
       "\n",
       "    .dataframe tbody tr th {\n",
       "        vertical-align: top;\n",
       "    }\n",
       "\n",
       "    .dataframe thead th {\n",
       "        text-align: right;\n",
       "    }\n",
       "</style>\n",
       "<table border=\"1\" class=\"dataframe\">\n",
       "  <thead>\n",
       "    <tr style=\"text-align: right;\">\n",
       "      <th></th>\n",
       "      <th>episode</th>\n",
       "      <th>episode_order</th>\n",
       "      <th>speaker</th>\n",
       "      <th>utterance</th>\n",
       "    </tr>\n",
       "  </thead>\n",
       "  <tbody>\n",
       "    <tr>\n",
       "      <th>0</th>\n",
       "      <td>57264</td>\n",
       "      <td>9</td>\n",
       "      <td>Ms. LOREN MOONEY (Editor-in-Chief, Bicycling M...</td>\n",
       "      <td>It's a 2,200-mile race. To give some sense of ...</td>\n",
       "    </tr>\n",
       "    <tr>\n",
       "      <th>1</th>\n",
       "      <td>57264</td>\n",
       "      <td>10</td>\n",
       "      <td>Ms. LOREN MOONEY (Editor-in-Chief, Bicycling M...</td>\n",
       "      <td>So for a top competitor like Lance to try to m...</td>\n",
       "    </tr>\n",
       "    <tr>\n",
       "      <th>2</th>\n",
       "      <td>57264</td>\n",
       "      <td>11</td>\n",
       "      <td>NEAL CONAN, host</td>\n",
       "      <td>So in every team, presumably there's one star,...</td>\n",
       "    </tr>\n",
       "    <tr>\n",
       "      <th>3</th>\n",
       "      <td>57264</td>\n",
       "      <td>12</td>\n",
       "      <td>Ms. LOREN MOONEY (Editor-in-Chief, Bicycling M...</td>\n",
       "      <td>That's right. Each team has nine riders. And w...</td>\n",
       "    </tr>\n",
       "    <tr>\n",
       "      <th>4</th>\n",
       "      <td>57264</td>\n",
       "      <td>13</td>\n",
       "      <td>NEAL CONAN, host</td>\n",
       "      <td>So slipstream, this is like drafting in car ra...</td>\n",
       "    </tr>\n",
       "    <tr>\n",
       "      <th>...</th>\n",
       "      <td>...</td>\n",
       "      <td>...</td>\n",
       "      <td>...</td>\n",
       "      <td>...</td>\n",
       "    </tr>\n",
       "    <tr>\n",
       "      <th>3199423</th>\n",
       "      <td>57264</td>\n",
       "      <td>4</td>\n",
       "      <td>NEAL CONAN, host</td>\n",
       "      <td>Joining us now from our bureau in New York is ...</td>\n",
       "    </tr>\n",
       "    <tr>\n",
       "      <th>3199424</th>\n",
       "      <td>57264</td>\n",
       "      <td>5</td>\n",
       "      <td>Ms. LOREN MOONEY (Editor-in-Chief, Bicycling M...</td>\n",
       "      <td>Thanks for having me.</td>\n",
       "    </tr>\n",
       "    <tr>\n",
       "      <th>3199425</th>\n",
       "      <td>57264</td>\n",
       "      <td>6</td>\n",
       "      <td>NEAL CONAN, host</td>\n",
       "      <td>And I've got my copy of Bicycling Magazine, an...</td>\n",
       "    </tr>\n",
       "    <tr>\n",
       "      <th>3199426</th>\n",
       "      <td>57264</td>\n",
       "      <td>7</td>\n",
       "      <td>Ms. LOREN MOONEY (Editor-in-Chief, Bicycling M...</td>\n",
       "      <td>Well, yes, it's true. Actually, the race did b...</td>\n",
       "    </tr>\n",
       "    <tr>\n",
       "      <th>3199427</th>\n",
       "      <td>57264</td>\n",
       "      <td>8</td>\n",
       "      <td>NEAL CONAN, host</td>\n",
       "      <td>Well, this is a race that lasts 2,000 miles. T...</td>\n",
       "    </tr>\n",
       "  </tbody>\n",
       "</table>\n",
       "<p>80 rows × 4 columns</p>\n",
       "</div>"
      ],
      "text/plain": [
       "         episode  episode_order  \\\n",
       "0          57264              9   \n",
       "1          57264             10   \n",
       "2          57264             11   \n",
       "3          57264             12   \n",
       "4          57264             13   \n",
       "...          ...            ...   \n",
       "3199423    57264              4   \n",
       "3199424    57264              5   \n",
       "3199425    57264              6   \n",
       "3199426    57264              7   \n",
       "3199427    57264              8   \n",
       "\n",
       "                                                   speaker  \\\n",
       "0        Ms. LOREN MOONEY (Editor-in-Chief, Bicycling M...   \n",
       "1        Ms. LOREN MOONEY (Editor-in-Chief, Bicycling M...   \n",
       "2                                         NEAL CONAN, host   \n",
       "3        Ms. LOREN MOONEY (Editor-in-Chief, Bicycling M...   \n",
       "4                                         NEAL CONAN, host   \n",
       "...                                                    ...   \n",
       "3199423                                   NEAL CONAN, host   \n",
       "3199424  Ms. LOREN MOONEY (Editor-in-Chief, Bicycling M...   \n",
       "3199425                                   NEAL CONAN, host   \n",
       "3199426  Ms. LOREN MOONEY (Editor-in-Chief, Bicycling M...   \n",
       "3199427                                   NEAL CONAN, host   \n",
       "\n",
       "                                                 utterance  \n",
       "0        It's a 2,200-mile race. To give some sense of ...  \n",
       "1        So for a top competitor like Lance to try to m...  \n",
       "2        So in every team, presumably there's one star,...  \n",
       "3        That's right. Each team has nine riders. And w...  \n",
       "4        So slipstream, this is like drafting in car ra...  \n",
       "...                                                    ...  \n",
       "3199423  Joining us now from our bureau in New York is ...  \n",
       "3199424                              Thanks for having me.  \n",
       "3199425  And I've got my copy of Bicycling Magazine, an...  \n",
       "3199426  Well, yes, it's true. Actually, the race did b...  \n",
       "3199427  Well, this is a race that lasts 2,000 miles. T...  \n",
       "\n",
       "[80 rows x 4 columns]"
      ]
     },
     "metadata": {},
     "output_type": "display_data"
    }
   ],
   "source": [
    "# remove all speakers labeled as _NO_SPEAKER\n",
    "df = df[df['speaker'] != '_NO_SPEAKER']\n",
    "print(len(df))\n",
    "\n",
    "# group by episode\n",
    "episodes = df.groupby('episode')\n",
    "\n",
    "# show the first episode, 57264\n",
    "display(episodes.get_group(57264))"
   ]
  },
  {
   "cell_type": "markdown",
   "metadata": {},
   "source": [
    "### Sam's Work"
   ]
  },
  {
   "cell_type": "code",
   "execution_count": 20,
   "metadata": {},
   "outputs": [
    {
     "data": {
      "text/html": [
       "<div>\n",
       "<style scoped>\n",
       "    .dataframe tbody tr th:only-of-type {\n",
       "        vertical-align: middle;\n",
       "    }\n",
       "\n",
       "    .dataframe tbody tr th {\n",
       "        vertical-align: top;\n",
       "    }\n",
       "\n",
       "    .dataframe thead th {\n",
       "        text-align: right;\n",
       "    }\n",
       "</style>\n",
       "<table border=\"1\" class=\"dataframe\">\n",
       "  <thead>\n",
       "    <tr style=\"text-align: right;\">\n",
       "      <th></th>\n",
       "      <th>episode</th>\n",
       "      <th>episode_order</th>\n",
       "      <th>speaker</th>\n",
       "      <th>utterance</th>\n",
       "    </tr>\n",
       "  </thead>\n",
       "  <tbody>\n",
       "    <tr>\n",
       "      <th>0</th>\n",
       "      <td>57264</td>\n",
       "      <td>9</td>\n",
       "      <td>Ms. LOREN MOONEY (Editor-in-Chief, Bicycling M...</td>\n",
       "      <td>It's a 2,200-mile race. To give some sense of ...</td>\n",
       "    </tr>\n",
       "    <tr>\n",
       "      <th>1</th>\n",
       "      <td>57264</td>\n",
       "      <td>10</td>\n",
       "      <td>Ms. LOREN MOONEY (Editor-in-Chief, Bicycling M...</td>\n",
       "      <td>So for a top competitor like Lance to try to m...</td>\n",
       "    </tr>\n",
       "    <tr>\n",
       "      <th>2</th>\n",
       "      <td>57264</td>\n",
       "      <td>11</td>\n",
       "      <td>NEAL CONAN, host</td>\n",
       "      <td>So in every team, presumably there's one star,...</td>\n",
       "    </tr>\n",
       "    <tr>\n",
       "      <th>3</th>\n",
       "      <td>57264</td>\n",
       "      <td>12</td>\n",
       "      <td>Ms. LOREN MOONEY (Editor-in-Chief, Bicycling M...</td>\n",
       "      <td>That's right. Each team has nine riders. And w...</td>\n",
       "    </tr>\n",
       "    <tr>\n",
       "      <th>4</th>\n",
       "      <td>57264</td>\n",
       "      <td>13</td>\n",
       "      <td>NEAL CONAN, host</td>\n",
       "      <td>So slipstream, this is like drafting in car ra...</td>\n",
       "    </tr>\n",
       "  </tbody>\n",
       "</table>\n",
       "</div>"
      ],
      "text/plain": [
       "   episode  episode_order                                            speaker  \\\n",
       "0    57264              9  Ms. LOREN MOONEY (Editor-in-Chief, Bicycling M...   \n",
       "1    57264             10  Ms. LOREN MOONEY (Editor-in-Chief, Bicycling M...   \n",
       "2    57264             11                                   NEAL CONAN, host   \n",
       "3    57264             12  Ms. LOREN MOONEY (Editor-in-Chief, Bicycling M...   \n",
       "4    57264             13                                   NEAL CONAN, host   \n",
       "\n",
       "                                           utterance  \n",
       "0  It's a 2,200-mile race. To give some sense of ...  \n",
       "1  So for a top competitor like Lance to try to m...  \n",
       "2  So in every team, presumably there's one star,...  \n",
       "3  That's right. Each team has nine riders. And w...  \n",
       "4  So slipstream, this is like drafting in car ra...  "
      ]
     },
     "execution_count": 20,
     "metadata": {},
     "output_type": "execute_result"
    }
   ],
   "source": [
    "df = pd.read_csv('archive/utterances.csv')\n",
    "df.head()"
   ]
  },
  {
   "cell_type": "code",
   "execution_count": 23,
   "metadata": {},
   "outputs": [
    {
     "data": {
      "text/plain": [
       "(10000, 4)"
      ]
     },
     "execution_count": 23,
     "metadata": {},
     "output_type": "execute_result"
    }
   ],
   "source": [
    "small_df = df[:10000]\n",
    "\n",
    "small_df.shape"
   ]
  },
  {
   "cell_type": "code",
   "execution_count": 68,
   "metadata": {},
   "outputs": [],
   "source": [
    "import numba as nb\n",
    "\n",
    "@nb.jit\n",
    "def counter(array,counts):\n",
    "    for row in array:\n",
    "        for item in row:\n",
    "            if item in counts:\n",
    "                counts[item] += 1\n",
    "            else:\n",
    "                counts[item] = 1\n",
    "\n",
    "@nb.jit\n",
    "def split_words(input):\n",
    "    array = []\n",
    "    for i, row in enumerate(input):\n",
    "        if i % 100000 == 0:\n",
    "            # print(i//100000)\n",
    "            pass\n",
    "        array.append(row.split())\n",
    "    return array\n",
    "\n",
    "# Proecess the data\n",
    "def pre_process(df):\n",
    "    df = df[df['speaker'] != '_NO_SPEAKER']\n",
    "    df.dropna()\n",
    "    df['utterance'] = df['utterance'].astype(str)\n",
    "    text_array = df['utterance'].values[:1000000]\n",
    "    return text_array\n",
    "\n",
    "def word_count(df):\n",
    "    # Filter the data and get the text array\n",
    "    text_array = pre_process(df)\n",
    "    # print('Processed')\n",
    "\n",
    "    # Give the list of punctuation to remove\n",
    "    punctuation = ['.', ',', '!', '?', ':', ';', '-', '(', ')', '[', ']', '{', '}', '\"']\n",
    "    for p in punctuation:\n",
    "        try:\n",
    "            text_array = [text.replace(p, '') for text in text_array]\n",
    "        except:\n",
    "            continue\n",
    "\n",
    "    # print('Removed punctuation')\n",
    "    # Split the text into words\n",
    "    text_array = split_words(text_array)\n",
    "    words = {}\n",
    "\n",
    "    # print('Split into words')\n",
    "    # Count the words\n",
    "    counter(text_array, words)\n",
    "    return words\n",
    "    \n",
    "words = word_count(df_5)\n"
   ]
  },
  {
   "cell_type": "code",
   "execution_count": 45,
   "metadata": {},
   "outputs": [],
   "source": [
    "# Sort the words by count\n",
    "sorted_words = sorted(words.items(), key=lambda x: x[1], reverse=True)\n",
    "\n",
    "# Sum the total words\n",
    "total_words = sum([x[1] for x in sorted_words])\n",
    "\n"
   ]
  },
  {
   "cell_type": "code",
   "execution_count": 92,
   "metadata": {},
   "outputs": [],
   "source": [
    "n = 40\n",
    "# Plot the most common words\n",
    "\n",
    "def plot_common(n, sorted_words, total_words, title=None, sub=False, ax=None):\n",
    "    # Plot the most common words\n",
    "    # if sub:\n",
    "    #     plt.subplot(6, 1, sub)  \n",
    "    ax.plot(range(n), [word[1]/total_words for word in sorted_words[:n]], label=title)\n",
    "    # plt.xticks(range(n), [word[0] for word in sorted_words[:n]], rotation=90)\n",
    "    plt.title(f'Distribution of words for {title}')\n",
    "\n",
    "\n",
    "# Plot the most common words\n",
    "# plot_common(n, sorted_words, total_words)"
   ]
  },
  {
   "cell_type": "code",
   "execution_count": 42,
   "metadata": {},
   "outputs": [
    {
     "data": {
      "text/plain": [
       "(119, 4)"
      ]
     },
     "execution_count": 42,
     "metadata": {},
     "output_type": "execute_result"
    }
   ],
   "source": [
    "df_5 = small_df[:119]\n",
    "df_5.shape"
   ]
  },
  {
   "cell_type": "code",
   "execution_count": 48,
   "metadata": {},
   "outputs": [
    {
     "data": {
      "text/plain": [
       "episode\n",
       "57264    72\n",
       "58225    16\n",
       "75004    12\n",
       "74884    11\n",
       "63416     8\n",
       "Name: count, dtype: int64"
      ]
     },
     "execution_count": 48,
     "metadata": {},
     "output_type": "execute_result"
    }
   ],
   "source": [
    "df_5['episode'].value_counts()"
   ]
  },
  {
   "cell_type": "code",
   "execution_count": 93,
   "metadata": {},
   "outputs": [
    {
     "data": {
      "image/png": "[encoded data removed]",
      "text/plain": [
       "<Figure size 432x288 with 1 Axes>"
      ]
     },
     "metadata": {
      "needs_background": "light"
     },
     "output_type": "display_data"
    }
   ],
   "source": [
    "df_57264 = df_5[df_5['episode'] == 57264]\n",
    "\n",
    "speakers = df_57264['speaker'].unique()\n",
    "i = 1\n",
    "fig, ax = plt.subplots()\n",
    "\n",
    "for speaker in speakers:\n",
    "    speaker_df = df_57264[df_57264['speaker'] == speaker]\n",
    "    speaker_words = word_count(speaker_df)\n",
    "    plot_common(40, sorted(speaker_words.items(), key=lambda x: x[1], reverse=True), sum(speaker_words.values()), title=speaker, sub=i, ax=ax)\n",
    "    # print(f\"Word counts for speaker {speaker}: {speaker_words}\")\n",
    "    i += 1\n",
    "\n",
    "# Plot the 1/x graph\n",
    "domain = np.arange(1, n)\n",
    "plt.plot(domain, .1*1/(domain+1), 'r--', label='1/x')\n",
    "plt.legend()\n",
    "plt.tight_layout()\n"
   ]
  },
  {
   "cell_type": "code",
   "execution_count": 99,
   "metadata": {},
   "outputs": [],
   "source": [
    "# Get the word counts for df_57264\n",
    "word_counts = word_count(df_57264)\n",
    "\n",
    "# Sort the word counts in descending order\n",
    "sorted_word_counts = sorted(word_counts.items(), key=lambda x: x[1], reverse=True)\n",
    "\n",
    "# Select the top 40 words overall\n",
    "top_40_words = [word[0] for word in sorted_word_counts[:40]]\n",
    "\n",
    "# Count the number of speakers that have each word in their top 20 words\n",
    "speakers_with_top_words = {}\n",
    "\n",
    "for word in top_40_words:\n",
    "    speakers_with_top_words[word] = 0\n",
    "\n",
    "    for speaker in speakers:\n",
    "        speaker_df = df_57264[df_57264['speaker'] == speaker]\n",
    "        speaker_word_counts = word_count(speaker_df)\n",
    "        sorted_speaker_word_counts = sorted(speaker_word_counts.items(), key=lambda x: x[1], reverse=True)\n",
    "        top_20_words = [word[0] for word in sorted_speaker_word_counts[:20]]\n",
    "\n",
    "        if word in top_20_words:\n",
    "            speakers_with_top_words[word] += 1\n",
    "\n",
    "# speakers_with_top_words\n"
   ]
  },
  {
   "cell_type": "code",
   "execution_count": 100,
   "metadata": {},
   "outputs": [
    {
     "data": {
      "image/png": "[encoded data removed]",
      "text/plain": [
       "<Figure size 432x288 with 1 Axes>"
      ]
     },
     "metadata": {
      "needs_background": "light"
     },
     "output_type": "display_data"
    }
   ],
   "source": [
    "# Convert the dictionary to a DataFrame\n",
    "df_speakers = pd.DataFrame.from_dict(speakers_with_top_words, orient='index', columns=['Number of Speakers'])\n",
    "\n",
    "# Plot a bar chart\n",
    "df_speakers.plot(kind='bar')\n",
    "plt.xlabel('Word')\n",
    "plt.ylabel('Number of Speakers')\n",
    "plt.title('Number of Speakers for Each Word')\n",
    "plt.show()\n"
   ]
  },
  {
   "cell_type": "markdown",
   "metadata": {},
   "source": [
    "Visualize the lengths of words against the frequency of use \n",
    "\n",
    "Groupby on every episode .valuecounts to get number of times speakers switch \n",
    "\n",
    "Get a distribution of words from two different speakers in a single episode to show the difference. "
   ]
  },
  {
   "cell_type": "code",
   "execution_count": 4,
   "metadata": {},
   "outputs": [
    {
     "data": {
      "text/html": [
       "<div>\n",
       "<style scoped>\n",
       "    .dataframe tbody tr th:only-of-type {\n",
       "        vertical-align: middle;\n",
       "    }\n",
       "\n",
       "    .dataframe tbody tr th {\n",
       "        vertical-align: top;\n",
       "    }\n",
       "\n",
       "    .dataframe thead th {\n",
       "        text-align: right;\n",
       "    }\n",
       "</style>\n",
       "<table border=\"1\" class=\"dataframe\">\n",
       "  <thead>\n",
       "    <tr style=\"text-align: right;\">\n",
       "      <th></th>\n",
       "      <th>word</th>\n",
       "      <th>count</th>\n",
       "    </tr>\n",
       "  </thead>\n",
       "  <tbody>\n",
       "    <tr>\n",
       "      <th>0</th>\n",
       "      <td>the</td>\n",
       "      <td>23135851162</td>\n",
       "    </tr>\n",
       "    <tr>\n",
       "      <th>1</th>\n",
       "      <td>of</td>\n",
       "      <td>13151942776</td>\n",
       "    </tr>\n",
       "    <tr>\n",
       "      <th>2</th>\n",
       "      <td>and</td>\n",
       "      <td>12997637966</td>\n",
       "    </tr>\n",
       "    <tr>\n",
       "      <th>3</th>\n",
       "      <td>to</td>\n",
       "      <td>12136980858</td>\n",
       "    </tr>\n",
       "    <tr>\n",
       "      <th>4</th>\n",
       "      <td>a</td>\n",
       "      <td>9081174698</td>\n",
       "    </tr>\n",
       "  </tbody>\n",
       "</table>\n",
       "</div>"
      ],
      "text/plain": [
       "  word        count\n",
       "0  the  23135851162\n",
       "1   of  13151942776\n",
       "2  and  12997637966\n",
       "3   to  12136980858\n",
       "4    a   9081174698"
      ]
     },
     "execution_count": 4,
     "metadata": {},
     "output_type": "execute_result"
    }
   ],
   "source": [
    "import pandas as pd\n",
    "\n",
    "# Specify the file path\n",
    "file_path = 'archive_common/unigram_freq.csv'\n",
    "\n",
    "# Load the CSV file into a DataFrame\n",
    "common_df = pd.read_csv(file_path)\n",
    "\n",
    "# Display the DataFrame\n",
    "common_df.head()\n"
   ]
  },
  {
   "cell_type": "code",
   "execution_count": 18,
   "metadata": {},
   "outputs": [
    {
     "data": {
      "image/png": "[encoded data removed]",
      "text/plain": [
       "<Figure size 864x432 with 1 Axes>"
      ]
     },
     "metadata": {
      "needs_background": "light"
     },
     "output_type": "display_data"
    }
   ],
   "source": [
    "# Select the top 40 words\n",
    "top_words = common_df[:40]\n",
    "\n",
    "# Normalize the counts to get percentages\n",
    "top_words['percentage'] = (top_words['count'] / top_words['count'].sum())\n",
    "\n",
    "# Plot the bar chart\n",
    "top_words.plot(x='word', y='percentage', kind='bar', figsize=(12, 6))\n",
    "# Plot the 1/x graph\n",
    "domain = np.arange(1, 40)\n",
    "plt.plot(domain, .2*1/(domain), 'r--', label='1/x')\n",
    "plt.xlabel('Word')\n",
    "plt.ylabel('Count')\n",
    "plt.title('Most common words in the english language')\n",
    "plt.xticks(rotation=90)\n",
    "plt.show()\n"
   ]
  }
 ],
 "metadata": {
  "kernelspec": {
   "display_name": "Python 3",
   "language": "python",
   "name": "python3"
  },
  "language_info": {
   "codemirror_mode": {
    "name": "ipython",
    "version": 3
   },
   "file_extension": ".py",
   "mimetype": "text/x-python",
   "name": "python",
   "nbconvert_exporter": "python",
   "pygments_lexer": "ipython3",
   "version": "3.10.13"
  }
 },
 "nbformat": 4,
 "nbformat_minor": 2
}
