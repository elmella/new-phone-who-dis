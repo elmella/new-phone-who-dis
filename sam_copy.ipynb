{
 "cells": [
  {
   "cell_type": "code",
   "execution_count": 1,
   "metadata": {},
   "outputs": [],
   "source": [
    "import numpy as np\n",
    "from matplotlib import pyplot as plt"
   ]
  },
  {
   "cell_type": "markdown",
   "metadata": {},
   "source": []
  },
  {
   "cell_type": "code",
   "execution_count": 2,
   "metadata": {},
   "outputs": [],
   "source": [
    "# make emission matrix\n",
    "def make_emission(host, guest):\n",
    "    emission = np.zeros((len(host), len(host), 2))\n",
    "    emission[:,:,0] = host\n",
    "    emission[:,:,1] = guest\n",
    "\n",
    "    # reorder the axis\n",
    "    return np.swapaxes(emission, 0, 1)"
   ]
  },
  {
   "cell_type": "code",
   "execution_count": 3,
   "metadata": {},
   "outputs": [],
   "source": [
    "# load in the data\n",
    "transition = np.load('vector-data/tensor.npy')\n",
    "host = np.load('vector-data/transition_matrix_host.npy')\n",
    "guest = np.load('vector-data/transition_matrix_guest.npy')\n",
    "obs = np.load('vector-data/observations.npy')\n",
    "initial = np.array([0.9, 0.1])"
   ]
  },
  {
   "cell_type": "code",
   "execution_count": 4,
   "metadata": {},
   "outputs": [],
   "source": [
    "emission = make_emission(host, guest)"
   ]
  },
  {
   "cell_type": "code",
   "execution_count": 5,
   "metadata": {},
   "outputs": [
    {
     "data": {
      "image/png": "[encoded data removed]",
      "text/plain": [
       "<Figure size 640x480 with 1 Axes>"
      ]
     },
     "metadata": {},
     "output_type": "display_data"
    }
   ],
   "source": [
    "values = emission.flatten()\n",
    "# values1 = values / np.sum(values)\n",
    "# cumulative = np.cumsum(values1)\n",
    "# plt.plot(cumulative)\n",
    "# plt.show()\n",
    "plt.hist(values, bins=100)\n",
    "plt.show()\n",
    "\n"
   ]
  },
  {
   "cell_type": "code",
   "execution_count": 11,
   "metadata": {},
   "outputs": [
    {
     "name": "stdout",
     "output_type": "stream",
     "text": [
      "1250300882\n"
     ]
    },
    {
     "data": {
      "text/plain": [
       "1287375282"
      ]
     },
     "execution_count": 11,
     "metadata": {},
     "output_type": "execute_result"
    }
   ],
   "source": [
    "print(np.sum(values == 0))\n",
    "len(values)"
   ]
  },
  {
   "cell_type": "code",
   "execution_count": 6,
   "metadata": {},
   "outputs": [],
   "source": [
    "# Adjust transition matrix to add epsilon values to avoid zero probabilitiese\n",
    "eps = .001"
   ]
  },
  {
   "cell_type": "code",
   "execution_count": 7,
   "metadata": {},
   "outputs": [],
   "source": [
    "def tensor_viterbi(obs, transition, emission, initial, structured = None):\n",
    "    \"\"\"Run the Viterbi algorithm with a conditioned tensor for the emission probabilities.\n",
    "    Inputs:\n",
    "        obs - ndarray (n,): observation sequence of indexes (includes a unique start token)\n",
    "        transition - ndarray (d,2,2): transition tensor of probabilities (index, row, col)\n",
    "        emission - ndarray (d,d,2): emission tensor of probabilities (index, row, col)\n",
    "        initial - ndarray (2,): initial state probabilities\n",
    "        structured - (optional) ndarray (n,): structured sequence of indexes\n",
    "\n",
    "    Outputs:\n",
    "        state_sequence - ndarray (n,): most likely state sequence of indexes\n",
    "    \"\"\"\n",
    "    # Matt Ignore structured variable\n",
    "\n",
    "\n",
    "    # Get the lengths and correct indices\n",
    "    start_index = obs[0]\n",
    "    obs = obs[1:]\n",
    "    n = len(obs)\n",
    "    d = transition.shape[0]\n",
    "    \n",
    "    # Initialize the viterbi matrix and the backpointers\n",
    "    eta = np.zeros((n,2))\n",
    "    backpointers = np.zeros((n,2), dtype=int)\n",
    "\n",
    "    # Initialize the first row\n",
    "    eta[0] = np.log(initial) + np.log(emission[start_index,obs[1],:])\n",
    "    obs = obs[1:]\n",
    "\n",
    "    # Loop through the rest of the rows\n",
    "    for i in range(1,n-1):\n",
    "        b = emission[obs[i-1],obs[i],:]\n",
    "        # check if any of the emission probabilities are zero\n",
    "        if np.any(b == 0):\n",
    "            # find the index of the zero probability\n",
    "            zero_index = np.where(b == 0)\n",
    "            # replace the zero probability with a small epsilon value\n",
    "            b[zero_index] = eps\n",
    "            # normalize the emission probabilities\n",
    "            b = b / np.sum(b)\n",
    "        eta_candidate = np.log(transition[obs[i-1],:,:]) + np.log(b) + eta[i-1][np.newaxis, :]\n",
    "        # eta_candidate = np.log(transition[obs[i-1],:,:]) * eta[i-1][np.newaxis, :] + np.log(emission[obs[i-1],obs[i],:])[:,np.newaxis] #### if statement goes here to replace 0 in the emission tensor\n",
    "        eta[i] = np.max(eta_candidate, axis=1)\n",
    "        backpointers[i] = np.argmax(eta_candidate, axis=1)\n",
    "\n",
    "    # Backtrack\n",
    "    state_sequence = np.zeros(n, dtype=int)\n",
    "    state_sequence[-1] = np.argmax(eta[-1])\n",
    "    for i in range(n-2,-1,-1):\n",
    "        state_sequence[i] = backpointers[i+1,state_sequence[i+1]]\n",
    "\n",
    "    # Return the state sequence\n",
    "    return state_sequence\n"
   ]
  },
  {
   "cell_type": "code",
   "execution_count": 8,
   "metadata": {},
   "outputs": [
    {
     "name": "stdout",
     "output_type": "stream",
     "text": [
      "[[1. 0.]\n",
      " [0. 1.]]\n",
      "[[-5.70378247         inf]\n",
      " [        nan        -inf]]\n"
     ]
    },
    {
     "name": "stderr",
     "output_type": "stream",
     "text": [
      "/var/folders/t4/43zvz_r119l5fk_hdwn6_mbw0000gn/T/ipykernel_53716/4275070506.py:34: RuntimeWarning: divide by zero encountered in log\n",
      "  eta_candidate = np.log(transition[obs[i-1],:,:]) * eta[i-1][np.newaxis, :] + np.log(emission[obs[i-1],obs[i],:])[:,np.newaxis]\n",
      "/var/folders/t4/43zvz_r119l5fk_hdwn6_mbw0000gn/T/ipykernel_53716/4275070506.py:34: RuntimeWarning: invalid value encountered in add\n",
      "  eta_candidate = np.log(transition[obs[i-1],:,:]) * eta[i-1][np.newaxis, :] + np.log(emission[obs[i-1],obs[i],:])[:,np.newaxis]\n"
     ]
    }
   ],
   "source": [
    "\n",
    "\n",
    "# Run the viterbi algorithm\n",
    "state_sequence = tensor_viterbi(obs, transition, emission, initial)\n",
    "\n"
   ]
  },
  {
   "cell_type": "code",
   "execution_count": 9,
   "metadata": {},
   "outputs": [
    {
     "name": "stdout",
     "output_type": "stream",
     "text": [
      "0\n"
     ]
    }
   ],
   "source": [
    "print(state_sequence)"
   ]
  },
  {
   "cell_type": "code",
   "execution_count": 10,
   "metadata": {},
   "outputs": [
    {
     "data": {
      "text/plain": [
       "array([[0.99842366, 0.04561404],\n",
       "       [0.00157634, 0.95438596]])"
      ]
     },
     "execution_count": 10,
     "metadata": {},
     "output_type": "execute_result"
    }
   ],
   "source": [
    "transition[0]"
   ]
  }
 ],
 "metadata": {
  "kernelspec": {
   "display_name": "Python 3",
   "language": "python",
   "name": "python3"
  },
  "language_info": {
   "codemirror_mode": {
    "name": "ipython",
    "version": 3
   },
   "file_extension": ".py",
   "mimetype": "text/x-python",
   "name": "python",
   "nbconvert_exporter": "python",
   "pygments_lexer": "ipython3",
   "version": "3.10.13"
  }
 },
 "nbformat": 4,
 "nbformat_minor": 2
}
