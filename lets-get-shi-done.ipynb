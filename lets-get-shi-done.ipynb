{
 "cells": [
  {
   "cell_type": "code",
   "execution_count": 10,
   "metadata": {},
   "outputs": [],
   "source": [
    "import numpy as np\n",
    "import pandas as pd\n",
    "import matplotlib.pyplot as plt\n",
    "from hmmlearn import hmm\n",
    "from sklearn.metrics import confusion_matrix\n",
    "from sklearn.mixture import GaussianMixture\n",
    "from sklearn.cluster import KMeans\n",
    "import os\n",
    "import nltk\n",
    "import warnings\n",
    "\n",
    "from nltk.stem import WordNetLemmatizer\n",
    "from sklearn.feature_extraction.text import TfidfVectorizer, CountVectorizer\n",
    "\n",
    "warnings.filterwarnings(\"ignore\")"
   ]
  },
  {
   "cell_type": "code",
   "execution_count": 3,
   "metadata": {},
   "outputs": [],
   "source": [
    "# load data\n",
    "df = pd.read_csv('archive/utterances-2sp.csv')"
   ]
  },
  {
   "cell_type": "code",
   "execution_count": 7,
   "metadata": {},
   "outputs": [],
   "source": [
    "def episode_with_most_utterances(df):\n",
    "    \"\"\"\n",
    "    Identifies the episode with the most rows (utterances).\n",
    "\n",
    "    Parameters:\n",
    "    df (pd.DataFrame): DataFrame containing the columns:\n",
    "                       'episode', 'episode_order', 'turn_order',\n",
    "                       'speaker_order', 'host_id', 'is_host', 'utterance'\n",
    "\n",
    "    Returns:\n",
    "    str: The episode identifier with the most utterances.\n",
    "    \"\"\"\n",
    "    # Group by 'episode', count the rows in each group, then find the episode with the maximum count\n",
    "    episode_counts = df.groupby('episode').size()\n",
    "    max_utterances_episode = episode_counts.idxmax()\n",
    "    \n",
    "    return max_utterances_episode\n",
    "\n",
    "largest_idx = episode_with_most_utterances(df)"
   ]
  },
  {
   "cell_type": "code",
   "execution_count": 8,
   "metadata": {},
   "outputs": [],
   "source": [
    "# get the largest episode, column \"episode\" with index largest_idx\n",
    "largest_episode = df[df['episode'] == largest_idx]"
   ]
  },
  {
   "cell_type": "code",
   "execution_count": null,
   "metadata": {},
   "outputs": [],
   "source": [
    "lemmatizer = WordNetLemmatizer()\n",
    "\n",
    "def tokenize_and_lemmatize(text):\n",
    "    tokens = word_tokenize(text)\n",
    "    lemmatized_tokens = [lemmatizer.lemmatize(word) for word in tokens]\n",
    "    return ' '.join(lemmatized_tokens)\n",
    "def preprocess_and_vectorize_batch(dataframe, vectorizer=None, batch_size=10000):\n",
    "    if vectorizer is None:\n",
    "        vectorizer = CountVectorizer()\n",
    "        is_fit = False\n",
    "    else:\n",
    "        is_fit = True\n",
    "    \n",
    "    processed_batches = []\n",
    "    for start_row in range(0, dataframe.shape[0], batch_size):\n",
    "        # Explicitly make a copy of the batch to avoid SettingWithCopyWarning\n",
    "        batch = dataframe.iloc[start_row:start_row+batch_size].copy()\n",
    "        batch['utterance'] = batch['utterance'].str.lower()\n",
    "        batch['utterance'] = batch['utterance'].apply(lambda x: x.translate(str.maketrans('', '', string.punctuation)))\n",
    "        batch['utterance'] = batch['utterance'].apply(tokenize_and_lemmatize)\n",
    "        \n",
    "        if not is_fit:\n",
    "            vectorized_batch = vectorizer.fit_transform(batch['utterance'])\n",
    "            is_fit = True\n",
    "        else:\n",
    "            vectorized_batch = vectorizer.transform(batch['utterance'])\n",
    "        \n",
    "        processed_batches.append(vectorized_batch)\n",
    "    \n",
    "    vectorized_data = vstack(processed_batches)"
   ]
  }
 ],
 "metadata": {
  "kernelspec": {
   "display_name": "Python 3",
   "language": "python",
   "name": "python3"
  },
  "language_info": {
   "codemirror_mode": {
    "name": "ipython",
    "version": 3
   },
   "file_extension": ".py",
   "mimetype": "text/x-python",
   "name": "python",
   "nbconvert_exporter": "python",
   "pygments_lexer": "ipython3",
   "version": "3.10.13"
  }
 },
 "nbformat": 4,
 "nbformat_minor": 2
}
