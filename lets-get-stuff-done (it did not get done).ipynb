{
 "cells": [
  {
   "cell_type": "code",
   "execution_count": 2,
   "metadata": {},
   "outputs": [],
   "source": [
    "import numpy as np\n",
    "import pandas as pd\n",
    "import matplotlib.pyplot as plt\n",
    "from hmmlearn import hmm\n",
    "from sklearn.metrics import confusion_matrix\n",
    "from sklearn.mixture import GaussianMixture\n",
    "from sklearn.cluster import KMeans\n",
    "import os\n",
    "import warnings\n",
    "from scipy.sparse import vstack\n",
    "from scipy.sparse import save_npz\n",
    "from scipy.sparse import load_npz\n",
    "from nltk.tokenize import word_tokenize\n",
    "import string\n",
    "from nltk.stem import WordNetLemmatizer\n",
    "from sklearn.feature_extraction.text import TfidfVectorizer, CountVectorizer\n",
    "from scipy.sparse import csr_matrix\n",
    "\n",
    "warnings.filterwarnings(\"ignore\")"
   ]
  },
  {
   "cell_type": "code",
   "execution_count": 3,
   "metadata": {},
   "outputs": [],
   "source": [
    "# load data\n",
    "df = pd.read_csv('archive/utterances-2sp.csv')"
   ]
  },
  {
   "cell_type": "code",
   "execution_count": 4,
   "metadata": {},
   "outputs": [],
   "source": [
    "def episode_with_most_utterances(df):\n",
    "    \"\"\"\n",
    "    Identifies the episode with the most rows (utterances).\n",
    "\n",
    "    Parameters:\n",
    "    df (pd.DataFrame): DataFrame containing the columns:\n",
    "                       'episode', 'episode_order', 'turn_order',\n",
    "                       'speaker_order', 'host_id', 'is_host', 'utterance'\n",
    "\n",
    "    Returns:\n",
    "    str: The episode identifier with the most utterances.\n",
    "    \"\"\"\n",
    "    # Group by 'episode', count the rows in each group, then find the episode with the maximum count\n",
    "    episode_counts = df.groupby('episode').size()\n",
    "    max_utterances_episode = episode_counts.idxmax()\n",
    "    \n",
    "    return max_utterances_episode\n",
    "\n",
    "largest_idx = episode_with_most_utterances(df)"
   ]
  },
  {
   "cell_type": "code",
   "execution_count": 5,
   "metadata": {},
   "outputs": [],
   "source": [
    "# get the largest episode, column \"episode\" with index largest_idx\n",
    "largest_episode = df[df['episode'] == largest_idx]"
   ]
  },
  {
   "cell_type": "code",
   "execution_count": 11,
   "metadata": {},
   "outputs": [],
   "source": [
    "# Initialize the lemmatizer\n",
    "lemmatizer = WordNetLemmatizer()\n",
    "\n",
    "# Define the function for tokenizing and lemmatizing\n",
    "def tokenize_and_lemmatize(text):\n",
    "    tokens = word_tokenize(text)\n",
    "    lemmatized_tokens = [lemmatizer.lemmatize(word) for word in tokens]\n",
    "    return lemmatized_tokens\n",
    "\n",
    "# Define the function to preprocess the data and create a new DataFrame of tokens\n",
    "def create_token_dataframe(dataframe):\n",
    "    # Process each utterance to tokenize and lemmatize\n",
    "    dataframe['utterance'] = dataframe['utterance'].str.lower().apply(lambda x: x.translate(str.maketrans('', '', string.punctuation)))\n",
    "    dataframe['tokens'] = dataframe['utterance'].apply(tokenize_and_lemmatize)\n",
    "    # dataframe['num_tokens'] = [len(tokens) for tokens in dataframe['tokens']]\n",
    "    \n",
    "    # Explode the DataFrame to have each token as a separate row\n",
    "    tokens_df = dataframe.explode('tokens').rename(columns={'tokens': 'token'})\n",
    "    tokens_df = tokens_df.drop(columns=['utterance'])  # Optionally remove the original 'utterance' column\n",
    "\n",
    "    return tokens_df\n",
    "\n",
    "def build_vocabulary(tokens_df):\n",
    "    \"\"\"Builds a vocabulary from the tokens DataFrame.\"\"\"\n",
    "    vocabulary = {word: idx for idx, word in enumerate(tokens_df['token'].unique())}\n",
    "    return vocabulary\n",
    "\n",
    "def one_hot_encode(tokens_df, vocabulary):\n",
    "    \"\"\"\n",
    "    One-hot encodes the tokens based on the provided vocabulary.\n",
    "    \n",
    "    Parameters:\n",
    "    - tokens_df (pd.DataFrame): DataFrame where each row contains a token.\n",
    "    - vocabulary (dict): A dictionary mapping words to indices.\n",
    "    \n",
    "    Returns:\n",
    "    - csr_matrix: The one-hot encoded representation of the tokens.\n",
    "    - list: A list of words corresponding to each row of the one-hot encoded matrix.\n",
    "    \"\"\"\n",
    "    # Initialize a matrix of zeros with shape (number of tokens, vocabulary size)\n",
    "    data = np.zeros((len(tokens_df), len(vocabulary)), dtype=int)\n",
    "    \n",
    "    # Prepare a list to store the labels (words) in order\n",
    "    labels = []\n",
    "    \n",
    "    # For each token, set the appropriate element to 1\n",
    "    for i, token in enumerate(tokens_df['token']):\n",
    "        index = vocabulary[token]\n",
    "        data[i, index] = 1\n",
    "        labels.append(token)  # Add the word to the labels list\n",
    "\n",
    "    # Convert to a sparse CSR matrix for efficiency\n",
    "    one_hot_encoded_data = csr_matrix(data)\n",
    "    return one_hot_encoded_data, labels\n"
   ]
  },
  {
   "cell_type": "code",
   "execution_count": 12,
   "metadata": {},
   "outputs": [
    {
     "data": {
      "text/plain": [
       "(3666, 397)"
      ]
     },
     "execution_count": 12,
     "metadata": {},
     "output_type": "execute_result"
    }
   ],
   "source": [
    "# Preprocess and vectorize the largest episode\n",
    "tokens_df = create_token_dataframe(largest_episode)\n",
    "vocabulary = build_vocabulary(tokens_df)\n",
    "one_hot_encoded_data, labels = one_hot_encode(tokens_df, vocabulary)\n",
    "one_hot_encoded_data.shape\n",
    "# labels"
   ]
  },
  {
   "cell_type": "code",
   "execution_count": 13,
   "metadata": {},
   "outputs": [
    {
     "name": "stdout",
     "output_type": "stream",
     "text": [
      "3666\n",
      "3666\n",
      "0.506001091107474\n"
     ]
    }
   ],
   "source": [
    "obs = one_hot_encoded_data.toarray()\n",
    "n = 2\n",
    "m = obs.shape[1]\n",
    "\n",
    "obs_flat = np.nonzero(obs)[1]\n",
    "\n",
    "# hmm\n",
    "h = hmm.CategoricalHMM(n_components=2, n_iter=200, tol=1e-4)\n",
    "h.fit(obs_flat.reshape(-1, 1))\n",
    "# get the hidden states\n",
    "hidden_states = h.predict(obs_flat.reshape(-1, 1))\n",
    "\n",
    "print(len(hidden_states))\n",
    "\n",
    "# create labels from speaker_order column\n",
    "labels = tokens_df['speaker_order'].values\n",
    "print(len(labels))\n",
    "\n",
    "# accuracy\n",
    "accuracy = np.mean(hidden_states == labels)\n",
    "print(accuracy)"
   ]
  },
  {
   "cell_type": "code",
   "execution_count": 14,
   "metadata": {},
   "outputs": [
    {
     "data": {
      "text/plain": [
       "397.0"
      ]
     },
     "execution_count": 14,
     "metadata": {},
     "output_type": "execute_result"
    }
   ],
   "source": [
    "1455402 / 3666"
   ]
  }
 ],
 "metadata": {
  "kernelspec": {
   "display_name": "Python 3",
   "language": "python",
   "name": "python3"
  },
  "language_info": {
   "codemirror_mode": {
    "name": "ipython",
    "version": 3
   },
   "file_extension": ".py",
   "mimetype": "text/x-python",
   "name": "python",
   "nbconvert_exporter": "python",
   "pygments_lexer": "ipython3",
   "version": "3.10.13"
  }
 },
 "nbformat": 4,
 "nbformat_minor": 2
}
