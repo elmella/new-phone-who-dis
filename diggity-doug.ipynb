{
 "cells": [
  {
   "cell_type": "code",
   "execution_count": 46,
   "metadata": {},
   "outputs": [],
   "source": [
    "import numpy as np\n",
    "import pandas as pd\n",
    "import matplotlib.pyplot as plt\n",
    "from hmmlearn import hmm\n",
    "from sklearn.metrics import confusion_matrix\n",
    "from sklearn.mixture import GaussianMixture\n",
    "from sklearn.cluster import KMeans\n",
    "import os\n",
    "import warnings\n",
    "from scipy.sparse import vstack\n",
    "from scipy.sparse import save_npz\n",
    "from scipy.sparse import load_npz\n",
    "from nltk.tokenize import word_tokenize\n",
    "import string\n",
    "from nltk.stem import WordNetLemmatizer\n",
    "from sklearn.feature_extraction.text import TfidfVectorizer, CountVectorizer\n",
    "from scipy.sparse import csr_matrix\n",
    "import spacy\n",
    "import re\n",
    "# Load the spaCy model for English. This needs to be installed via spacy download en_core_web_sm\n",
    "nlp = spacy.load(\"en_core_web_sm\")\n",
    "\n",
    "warnings.filterwarnings(\"ignore\")\n",
    "from collections import Counter"
   ]
  },
  {
   "cell_type": "code",
   "execution_count": 60,
   "metadata": {},
   "outputs": [
    {
     "data": {
      "application/vnd.jupyter.widget-view+json": {
       "model_id": "1ec298c6f51f4b6e9e7ec66f46c607e0",
       "version_major": 2,
       "version_minor": 0
      },
      "text/plain": [
       "Processing batches:   0%|          | 0/1240112 [00:00<?, ?it/s]"
      ]
     },
     "metadata": {},
     "output_type": "display_data"
    }
   ],
   "source": [
    "from tqdm.notebook import tqdm\n",
    "import pandas as pd\n",
    "import re\n",
    "from nltk.tokenize import word_tokenize\n",
    "from nltk.stem import WordNetLemmatizer\n",
    "from collections import Counter\n",
    "\n",
    "# Initialize the lemmatizer\n",
    "lemmatizer = WordNetLemmatizer()\n",
    "\n",
    "word_threshold = 20\n",
    "\n",
    "# Preprocessing function to be applied to the entire DataFrame\n",
    "def preprocess_text(df):\n",
    "    # Normalize text: replace dashes with spaces, remove non-alphabetic characters except spaces\n",
    "    df['utterance'] = df['utterance'].str.replace('-', ' ').str.lower()\n",
    "    df['utterance'] = df['utterance'].apply(lambda x: re.sub(r'[^a-z\\s]', '', x))\n",
    "    return df\n",
    "\n",
    "# Function to tokenize and lemmatize with word frequency filtering\n",
    "def tokenize_and_lemmatize(text, word_frequencies):\n",
    "    words = text.split()\n",
    "    lemmatized_tokens = [lemmatizer.lemmatize(word) for word in words]\n",
    "    filtered_tokens = [word if word_frequencies.get(word, 0) >= word_threshold else 'xxxxx' for word in lemmatized_tokens]\n",
    "    return ' '.join(filtered_tokens)\n",
    "\n",
    "def preprocess_batch(batch, word_frequencies):\n",
    "    # Apply tokenization and lemmatization with word filtering\n",
    "    batch['utterance'] = batch['utterance'].apply(lambda x: tokenize_and_lemmatize(x, word_frequencies))\n",
    "    batch['is_question'] = batch['utterance'].str.contains(r'\\?').astype(int)\n",
    "    return batch\n",
    "\n",
    "# Main preprocessing function\n",
    "def preprocess_dataframe(dataframe, batch_size=1000):\n",
    "    # Apply initial preprocessing\n",
    "    dataframe = preprocess_text(dataframe)\n",
    "    \n",
    "    # Calculate word frequencies\n",
    "    all_words = ' '.join(dataframe['utterance']).split()\n",
    "    word_frequencies = Counter(all_words)\n",
    "    \n",
    "    # Initialize progress bar\n",
    "    progress = tqdm(total=len(dataframe), desc=\"Processing batches\")\n",
    "    \n",
    "    processed_batches = []\n",
    "    for start_row in range(0, len(dataframe), batch_size):\n",
    "        end_row = start_row + batch_size\n",
    "        batch = dataframe.iloc[start_row:end_row]\n",
    "        processed_batch = preprocess_batch(batch, word_frequencies)\n",
    "        processed_batches.append(processed_batch)\n",
    "        \n",
    "        # Update progress\n",
    "        progress.update(len(batch))\n",
    "        \n",
    "    progress.close()  # Ensure the progress bar is closed after processing\n",
    "    \n",
    "    return pd.concat(processed_batches)\n",
    "\n",
    "# Load the DataFrame\n",
    "df = pd.read_csv('archive/utterances-2sp.csv')\n",
    "\n",
    "# Process the DataFrame\n",
    "df_processed = preprocess_dataframe(df)\n",
    "\n",
    "# Save the processed DataFrame\n",
    "df_processed.to_csv('archive/processed_utterances-2sp.csv', index=False)\n"
   ]
  },
  {
   "cell_type": "code",
   "execution_count": 63,
   "metadata": {},
   "outputs": [],
   "source": [
    "# Split each utterance into a list of words and explode the DataFrame to get a row per word\n",
    "words_series = df_processed['utterance'].str.split().explode()\n",
    "\n",
    "# Convert the series to a set to get unique words\n",
    "unique_words = set(words_series)\n",
    "\n",
    "# get word frequencies\n",
    "word_frequencies = words_series.value_counts().to_dict()"
   ]
  },
  {
   "cell_type": "code",
   "execution_count": 64,
   "metadata": {},
   "outputs": [
    {
     "name": "stdout",
     "output_type": "stream",
     "text": [
      "Number of unique words: 17549\n"
     ]
    },
    {
     "data": {
      "text/plain": [
       "[('the', 943818),\n",
       " ('and', 544649),\n",
       " ('to', 525141),\n",
       " ('a', 524645),\n",
       " ('of', 488369),\n",
       " ('xxxxx', 444125),\n",
       " ('that', 392136),\n",
       " ('in', 353176),\n",
       " ('it', 286517),\n",
       " ('you', 275173)]"
      ]
     },
     "execution_count": 64,
     "metadata": {},
     "output_type": "execute_result"
    }
   ],
   "source": [
    "print(f'Number of unique words: {len(unique_words)}')\n",
    "\n",
    "# sort the words by frequency and display the most common words\n",
    "sorted_word_frequencies = sorted(word_frequencies.items(), key=lambda x: x[1], reverse=True)\n",
    "sorted_word_frequencies[:10]"
   ]
  }
 ],
 "metadata": {
  "kernelspec": {
   "display_name": "Python 3",
   "language": "python",
   "name": "python3"
  },
  "language_info": {
   "codemirror_mode": {
    "name": "ipython",
    "version": 3
   },
   "file_extension": ".py",
   "mimetype": "text/x-python",
   "name": "python",
   "nbconvert_exporter": "python",
   "pygments_lexer": "ipython3",
   "version": "3.10.13"
  }
 },
 "nbformat": 4,
 "nbformat_minor": 2
}
