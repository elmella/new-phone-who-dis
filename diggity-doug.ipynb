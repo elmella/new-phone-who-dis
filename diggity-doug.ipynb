{
 "cells": [
  {
   "cell_type": "code",
   "execution_count": 1,
   "metadata": {},
   "outputs": [],
   "source": [
    "import numpy as np\n",
    "import pandas as pd\n",
    "import matplotlib.pyplot as plt\n",
    "from hmmlearn import hmm\n",
    "from sklearn.metrics import confusion_matrix\n",
    "from sklearn.mixture import GaussianMixture\n",
    "from sklearn.cluster import KMeans\n",
    "import os\n",
    "import warnings\n",
    "from scipy.sparse import vstack\n",
    "from scipy.sparse import save_npz\n",
    "from scipy.sparse import load_npz\n",
    "from nltk.tokenize import word_tokenize\n",
    "import string\n",
    "from nltk.stem import WordNetLemmatizer\n",
    "from sklearn.feature_extraction.text import TfidfVectorizer, CountVectorizer\n",
    "from scipy.sparse import csr_matrix\n",
    "import spacy\n",
    "import re\n",
    "# Load the spaCy model for English. This needs to be installed via spacy download en_core_web_sm\n",
    "nlp = spacy.load(\"en_core_web_sm\")\n",
    "\n",
    "warnings.filterwarnings(\"ignore\")\n",
    "from collections import Counter"
   ]
  },
  {
   "cell_type": "code",
   "execution_count": 2,
   "metadata": {},
   "outputs": [
    {
     "data": {
      "application/vnd.jupyter.widget-view+json": {
       "model_id": "68b2b6944dee42dbae87b8516d4fe2ac",
       "version_major": 2,
       "version_minor": 0
      },
      "text/plain": [
       "Processing batches:   0%|          | 0/1240112 [00:00<?, ?it/s]"
      ]
     },
     "metadata": {},
     "output_type": "display_data"
    }
   ],
   "source": [
    "from tqdm.notebook import tqdm\n",
    "import pandas as pd\n",
    "import re\n",
    "from nltk.tokenize import word_tokenize\n",
    "from nltk.stem import WordNetLemmatizer\n",
    "from collections import Counter\n",
    "\n",
    "# Initialize the lemmatizer\n",
    "lemmatizer = WordNetLemmatizer()\n",
    "\n",
    "word_threshold = 10\n",
    "\n",
    "# Preprocessing function to be applied to the entire DataFrame\n",
    "def preprocess_text(df):\n",
    "    # Normalize text: replace dashes with spaces, remove non-alphabetic characters except spaces\n",
    "    df['utterance'] = df['utterance'].str.replace('-', ' ').str.lower()\n",
    "    df['utterance'] = df['utterance'].apply(lambda x: re.sub(r'[^a-z\\s]', '', x))\n",
    "    return df\n",
    "\n",
    "# Function to tokenize and lemmatize with word frequency filtering\n",
    "def tokenize_and_lemmatize(text, word_frequencies):\n",
    "    words = text.split()\n",
    "    lemmatized_tokens = [lemmatizer.lemmatize(word) for word in words]\n",
    "    filtered_tokens = [word if word_frequencies.get(word, 0) >= word_threshold else 'xxxxx' for word in lemmatized_tokens]\n",
    "    return ' '.join(filtered_tokens)\n",
    "\n",
    "def preprocess_batch(batch, word_frequencies):\n",
    "    # Apply tokenization and lemmatization with word filtering\n",
    "    batch['utterance'] = batch['utterance'].apply(lambda x: tokenize_and_lemmatize(x, word_frequencies))\n",
    "    batch['is_question'] = batch['utterance'].str.contains(r'\\?').astype(int)\n",
    "    return batch\n",
    "\n",
    "# Main preprocessing function\n",
    "def preprocess_dataframe(dataframe, batch_size=1000):\n",
    "    # Apply initial preprocessing\n",
    "    dataframe = preprocess_text(dataframe)\n",
    "    \n",
    "    # Calculate word frequencies\n",
    "    all_words = ' '.join(dataframe['utterance']).split()\n",
    "    word_frequencies = Counter(all_words)\n",
    "    \n",
    "    # Initialize progress bar\n",
    "    progress = tqdm(total=len(dataframe), desc=\"Processing batches\")\n",
    "    \n",
    "    processed_batches = []\n",
    "    for start_row in range(0, len(dataframe), batch_size):\n",
    "        end_row = start_row + batch_size\n",
    "        batch = dataframe.iloc[start_row:end_row]\n",
    "        processed_batch = preprocess_batch(batch, word_frequencies)\n",
    "        processed_batches.append(processed_batch)\n",
    "        \n",
    "        # Update progress\n",
    "        progress.update(len(batch))\n",
    "        \n",
    "    progress.close()  # Ensure the progress bar is closed after processing\n",
    "    \n",
    "    return pd.concat(processed_batches)\n",
    "\n",
    "# Load the DataFrame\n",
    "df = pd.read_csv('archive/utterances-2sp.csv')\n",
    "\n",
    "# Process the DataFrame\n",
    "df_processed = preprocess_dataframe(df)\n",
    "\n",
    "# select rows with df['episode_order'] == 1 and df['turn_order'] == 1, turn the first word of the utterance into 'yyyyy'\n",
    "df_processed.loc[(df_processed['episode_order'] == 1) & (df_processed['turn_order'] == 0), 'utterance'] = df_processed.loc[(df_processed['episode_order'] == 1) & (df_processed['turn_order'] == 0), 'utterance'].apply(lambda x: 'yyyyy ' + ' '.join(x.split()[1:]))\n",
    "\n",
    "\n",
    "# Save the processed DataFrame\n",
    "df_processed.to_csv('archive/processed_utterances-2sp.csv', index=False)\n"
   ]
  },
  {
   "cell_type": "code",
   "execution_count": 3,
   "metadata": {},
   "outputs": [],
   "source": [
    "# Split each utterance into a list of words and explode the DataFrame to get a row per word\n",
    "words_series = df_processed['utterance'].str.split().explode()\n",
    "\n",
    "# Convert the series to a set to get unique words\n",
    "unique_words = set(words_series)\n",
    "\n",
    "# get word frequencies\n",
    "word_frequencies = words_series.value_counts().to_dict()"
   ]
  },
  {
   "cell_type": "code",
   "execution_count": 4,
   "metadata": {},
   "outputs": [
    {
     "name": "stdout",
     "output_type": "stream",
     "text": [
      "Number of unique words: 25371\n"
     ]
    },
    {
     "data": {
      "text/plain": [
       "[('the', 941774),\n",
       " ('and', 543561),\n",
       " ('to', 524992),\n",
       " ('a', 523793),\n",
       " ('of', 488340),\n",
       " ('that', 392101),\n",
       " ('in', 352344),\n",
       " ('it', 285590),\n",
       " ('you', 275047),\n",
       " ('is', 251901)]"
      ]
     },
     "execution_count": 4,
     "metadata": {},
     "output_type": "execute_result"
    }
   ],
   "source": [
    "print(f'Number of unique words: {len(unique_words)}')\n",
    "\n",
    "# sort the words by frequency and display the most common words\n",
    "sorted_word_frequencies = sorted(word_frequencies.items(), key=lambda x: x[1], reverse=True)\n",
    "sorted_word_frequencies[:10]"
   ]
  },
  {
   "cell_type": "markdown",
   "metadata": {},
   "source": [
    "# B"
   ]
  },
  {
   "cell_type": "code",
   "execution_count": 16,
   "metadata": {},
   "outputs": [],
   "source": [
    "df_processed = pd.read_csv('archive/processed_utterances-2sp.csv')\n",
    "episodes = df_processed['episode'].unique()\n",
    "\n",
    "# Split the filtered episodes into training and testing sets\n",
    "train_episodes = np.random.choice(episodes, int(0.8 * len(episodes)), replace=False)\n",
    "train = df_processed[df_processed['episode'].isin(train_episodes)]\n",
    "test = df_processed[~df_processed['episode'].isin(train_episodes)]\n",
    "\n",
    "train_host = train[train['is_host'] == True]\n",
    "train_guest = train[train['is_host'] == False]"
   ]
  },
  {
   "cell_type": "code",
   "execution_count": 9,
   "metadata": {},
   "outputs": [],
   "source": [
    "# select a random test episode\n",
    "test_episode = np.random.choice(test['episode'].unique())\n",
    "test_episode_df = test[test['episode'] == test_episode]\n",
    "\n",
    "# get all of the words in the test episode\n",
    "test_episode_words = ' '.join(test_episode_df['utterance']).split()\n",
    "\n",
    "# get the index of the words from unique_words\n",
    "word_indices = {word: i for i, word in enumerate(unique_words)}\n",
    "\n",
    "# get the indices of the words in the test episode\n",
    "test_episode_word_indices = [word_indices[word] for word in test_episode_words]\n",
    "\n",
    "# save the test episode word indices\n",
    "np.save('archive/test_episode_word_indices.npy', test_episode_word_indices)\n",
    "\n",
    "# get the in"
   ]
  },
  {
   "cell_type": "code",
   "execution_count": 33,
   "metadata": {},
   "outputs": [],
   "source": [
    "def get_transition_matrix_efficient(df, word_to_index, d):\n",
    "    # Initialize the transition counts matrix\n",
    "    transition_counts = np.zeros((d, d), dtype=int)\n",
    "    \n",
    "    # Iterate over each utterance\n",
    "    for utterance in df['utterance']:\n",
    "        if type(utterance) != str:\n",
    "            try:\n",
    "                utterance = str(utterance)\n",
    "            except:\n",
    "                continue\n",
    "\n",
    "        words = utterance.split()\n",
    "        for i in range(1, len(words)):\n",
    "            word1 = words[i - 1]\n",
    "            word2 = words[i]\n",
    "            if word1 in word_to_index and word2 in word_to_index:  # Check if both words are in the index\n",
    "                index1 = word_to_index[word1]\n",
    "                index2 = word_to_index[word2]\n",
    "                transition_counts[index2, index1] += 1  # Increment the count of the transition\n",
    "                \n",
    "    # Handle columns with zero sum to avoid division by zero\n",
    "    column_sums = transition_counts.sum(axis=0, keepdims=True)\n",
    "    zero_columns = column_sums == 0\n",
    "    column_sums[zero_columns] = 1  # Avoid division by zero by setting 0 sums to 1\n",
    "    \n",
    "    # Now make column stochastic\n",
    "    transition_probabilities = transition_counts / column_sums\n",
    "\n",
    "    # make 0 columns have 1 / d probability for each word\n",
    "    transition_probabilities[:, zero_columns.flatten()] = 1 / d\n",
    "    \n",
    "    return transition_probabilities, word_to_index\n",
    "\n",
    "# Apply the efficient function to get the transition matrices\n",
    "transition_matrix_host, word_to_index_host = get_transition_matrix_efficient(train_host, word_indices, len(unique_words))\n",
    "transition_matrix_guest, word_to_index_guest = get_transition_matrix_efficient(train_guest, word_indices, len(unique_words))"
   ]
  },
  {
   "cell_type": "code",
   "execution_count": 34,
   "metadata": {},
   "outputs": [
    {
     "name": "stdout",
     "output_type": "stream",
     "text": [
      "True\n"
     ]
    }
   ],
   "source": [
    "transition_matrix_host.shape, transition_matrix_guest.shape\n",
    "\n",
    "# test if columns sum to 1\n",
    "print(np.allclose(transition_matrix_host.sum(axis=0), 1))\n",
    "\n",
    "# # save the transition matrices\n",
    "np.save('vector-data/transition_matrix_host.npy', transition_matrix_host)\n",
    "np.save('vector-data/transition_matrix_guest.npy', transition_matrix_guest)"
   ]
  },
  {
   "cell_type": "markdown",
   "metadata": {},
   "source": [
    "# A"
   ]
  },
  {
   "cell_type": "code",
   "execution_count": 40,
   "metadata": {},
   "outputs": [],
   "source": [
    "def tensor_trouble(df):\n",
    "    # Unique words and mapping\n",
    "    all_words = df['utterance'].str.split().explode()\n",
    "    word_to_index = {word: index for index, word in enumerate(all_words)}\n",
    "    unique_words = all_words.unique()\n",
    "    d = len(unique_words)\n",
    "    \n",
    "    # Map each unique word to an index\n",
    "    word_to_index = {word: index for index, word in enumerate(unique_words)}\n",
    "    \n",
    "    # Initialize the tensor: 2x2xd\n",
    "    tensor = np.zeros((d, 2, 2), dtype=int)\n",
    "    \n",
    "    # Group by episodes and concatenate text with speaker roles\n",
    "    for episode, group in df.groupby('episode'):\n",
    "        # Flatten all text into one string per episode\n",
    "        if type(group['utterance']) != str:\n",
    "            group['utterance'] = group['utterance'].apply(lambda x: ' '.join(x) if isinstance(x, list) else x)\n",
    "\n",
    "        text = \" \".join(group['utterance'].astype(str))\n",
    "        words = text.split()\n",
    "\n",
    "        # Replicate 'is_host' values for each word in the utterance\n",
    "        roles = np.concatenate(group.apply(lambda row: [row['is_host']] * len(str(row['utterance']).split()), axis=1).values)\n",
    "        \n",
    "        for i in range(2, len(words)):\n",
    "            # Get the current and next words\n",
    "            word = words[i - 2]\n",
    "            next_role = roles[i - 1]\n",
    "            following_role = roles[i]\n",
    "\n",
    "            # Get the current and next indices\n",
    "            current_index = word_to_index[word]\n",
    "            current_role_index = 0 if next_role else 1\n",
    "            next_role_index = 0 if following_role else 1\n",
    "\n",
    "\n",
    "            \n",
    "            # Skip if any word is not in the index (unlikely given preprocessing, but safe practice)\n",
    "            if current_index == -1:\n",
    "                continue\n",
    "            \n",
    "            # Update the tensor based on speaker transitions\n",
    "            tensor[current_index, next_role_index,current_role_index] += 1\n",
    "\n",
    "    return tensor, word_to_index\n",
    "\n",
    "\n",
    "tensor, word_to_index = tensor_trouble(train)"
   ]
  },
  {
   "cell_type": "code",
   "execution_count": 43,
   "metadata": {},
   "outputs": [
    {
     "name": "stdout",
     "output_type": "stream",
     "text": [
      "False\n"
     ]
    },
    {
     "data": {
      "text/plain": [
       "array([[0.97142857, 0.00542005],\n",
       "       [0.02857143, 0.99457995]])"
      ]
     },
     "execution_count": 43,
     "metadata": {},
     "output_type": "execute_result"
    }
   ],
   "source": [
    "# normalize the tensor to be column stochastic for each layer\n",
    "tensor_normalized = tensor / tensor.sum(axis=1, keepdims=True)\n",
    "\n",
    "# check if the tensor is column stochastic\n",
    "print(np.allclose(tensor_normalized.sum(axis=1), 1))\n",
    "\n",
    "# save the tensor\n",
    "np.save('vector-data/tensor.npy', tensor_normalized)\n",
    "\n",
    "\n",
    "# view the first layer of the tensor\n",
    "tensor_normalized[200]"
   ]
  },
  {
   "cell_type": "code",
   "execution_count": 1,
   "metadata": {},
   "outputs": [
    {
     "ename": "",
     "evalue": "",
     "output_type": "error",
     "traceback": [
      "\u001b[1;31mThe Kernel crashed while executing code in the current cell or a previous cell. \n",
      "\u001b[1;31mPlease review the code in the cell(s) to identify a possible cause of the failure. \n",
      "\u001b[1;31mClick <a href='https://aka.ms/vscodeJupyterKernelCrash'>here</a> for more info. \n",
      "\u001b[1;31mView Jupyter <a href='command:jupyter.viewOutput'>log</a> for further details."
     ]
    }
   ],
   "source": [
    "import pandas as pd\n",
    "from sklearn.feature_extraction.text import TfidfVectorizer\n",
    "from sklearn.decomposition import PCA\n",
    "from sklearn.cluster import KMeans\n",
    "from sklearn.preprocessing import StandardScaler\n",
    "import matplotlib.pyplot as plt\n",
    "\n",
    "df_processed = pd.read_csv('archive/processed_utterances-2sp.csv')\n",
    "\n",
    "# Replace NaN values in 'utterance' with an empty string\n",
    "df_processed['utterance'].fillna(\"\", inplace=True)\n",
    "\n",
    "# Proceed with TF-IDF embedding\n",
    "tfidf_vectorizer = TfidfVectorizer(max_features=500)\n",
    "tfidf_matrix = tfidf_vectorizer.fit_transform(df_processed['utterance'])\n",
    "\n",
    "# Step 2: Applying PCA for dimensionality reduction\n",
    "# Standardizing the data before PCA\n",
    "scaler = StandardScaler(with_mean=False)  # Use with_mean=False for sparse matrix compatibility\n",
    "tfidf_matrix_std = scaler.fit_transform(tfidf_matrix)\n",
    "\n",
    "pca = PCA(n_components=0.55)  # Keep 95% of the variance\n",
    "pca_result = pca.fit_transform(tfidf_matrix_std.toarray())\n",
    "\n",
    "# Step 3: Clustering the PCA-reduced episode vectors\n",
    "kmeans = KMeans(n_clusters=5, random_state=42)  # Example: 5 clusters, adjust based on your analysis\n",
    "clusters = kmeans.fit_predict(pca_result)\n",
    "\n",
    "# Optionally, visualize the clustering (if 2 PCA components)\n",
    "if pca_result.shape[1] == 2:\n",
    "    plt.figure(figsize=(8, 6))\n",
    "    plt.scatter(pca_result[:, 0], pca_result[:, 1], c=clusters, cmap='viridis', marker='o')\n",
    "    plt.title('PCA-reduced TF-IDF Clustering')\n",
    "    plt.xlabel('PCA Component 1')\n",
    "    plt.ylabel('PCA Component 2')\n",
    "    plt.show()\n",
    "\n",
    "# Adding cluster labels to your DataFrame\n",
    "df_processed['cluster'] = clusters\n",
    "\n",
    "# Save the processed DataFrame with cluster labels\n",
    "df_processed.to_csv('archive/clustered_utterances-2sp.csv', index=False)\n"
   ]
  }
 ],
 "metadata": {
  "kernelspec": {
   "display_name": "Python 3",
   "language": "python",
   "name": "python3"
  },
  "language_info": {
   "codemirror_mode": {
    "name": "ipython",
    "version": 3
   },
   "file_extension": ".py",
   "mimetype": "text/x-python",
   "name": "python",
   "nbconvert_exporter": "python",
   "pygments_lexer": "ipython3",
   "version": "3.10.13"
  }
 },
 "nbformat": 4,
 "nbformat_minor": 2
}
