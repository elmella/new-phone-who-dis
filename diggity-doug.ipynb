{
 "cells": [
  {
   "cell_type": "code",
   "execution_count": 46,
   "metadata": {},
   "outputs": [],
   "source": [
    "import numpy as np\n",
    "import pandas as pd\n",
    "import matplotlib.pyplot as plt\n",
    "from hmmlearn import hmm\n",
    "from sklearn.metrics import confusion_matrix\n",
    "from sklearn.mixture import GaussianMixture\n",
    "from sklearn.cluster import KMeans\n",
    "import os\n",
    "import warnings\n",
    "from scipy.sparse import vstack\n",
    "from scipy.sparse import save_npz\n",
    "from scipy.sparse import load_npz\n",
    "from nltk.tokenize import word_tokenize\n",
    "import string\n",
    "from nltk.stem import WordNetLemmatizer\n",
    "from sklearn.feature_extraction.text import TfidfVectorizer, CountVectorizer\n",
    "from scipy.sparse import csr_matrix\n",
    "import spacy\n",
    "import re\n",
    "# Load the spaCy model for English. This needs to be installed via spacy download en_core_web_sm\n",
    "nlp = spacy.load(\"en_core_web_sm\")\n",
    "\n",
    "warnings.filterwarnings(\"ignore\")\n",
    "from collections import Counter"
   ]
  },
  {
   "cell_type": "code",
   "execution_count": 60,
   "metadata": {},
   "outputs": [
    {
     "data": {
      "application/vnd.jupyter.widget-view+json": {
       "model_id": "1ec298c6f51f4b6e9e7ec66f46c607e0",
       "version_major": 2,
       "version_minor": 0
      },
      "text/plain": [
       "Processing batches:   0%|          | 0/1240112 [00:00<?, ?it/s]"
      ]
     },
     "metadata": {},
     "output_type": "display_data"
    }
   ],
   "source": [
    "from tqdm.notebook import tqdm\n",
    "import pandas as pd\n",
    "import re\n",
    "from nltk.tokenize import word_tokenize\n",
    "from nltk.stem import WordNetLemmatizer\n",
    "from collections import Counter\n",
    "\n",
    "# Initialize the lemmatizer\n",
    "lemmatizer = WordNetLemmatizer()\n",
    "\n",
    "word_threshold = 20\n",
    "\n",
    "# Preprocessing function to be applied to the entire DataFrame\n",
    "def preprocess_text(df):\n",
    "    # Normalize text: replace dashes with spaces, remove non-alphabetic characters except spaces\n",
    "    df['utterance'] = df['utterance'].str.replace('-', ' ').str.lower()\n",
    "    df['utterance'] = df['utterance'].apply(lambda x: re.sub(r'[^a-z\\s]', '', x))\n",
    "    return df\n",
    "\n",
    "# Function to tokenize and lemmatize with word frequency filtering\n",
    "def tokenize_and_lemmatize(text, word_frequencies):\n",
    "    words = text.split()\n",
    "    lemmatized_tokens = [lemmatizer.lemmatize(word) for word in words]\n",
    "    filtered_tokens = [word if word_frequencies.get(word, 0) >= word_threshold else 'xxxxx' for word in lemmatized_tokens]\n",
    "    return ' '.join(filtered_tokens)\n",
    "\n",
    "def preprocess_batch(batch, word_frequencies):\n",
    "    # Apply tokenization and lemmatization with word filtering\n",
    "    batch['utterance'] = batch['utterance'].apply(lambda x: tokenize_and_lemmatize(x, word_frequencies))\n",
    "    batch['is_question'] = batch['utterance'].str.contains(r'\\?').astype(int)\n",
    "    return batch\n",
    "\n",
    "# Main preprocessing function\n",
    "def preprocess_dataframe(dataframe, batch_size=1000):\n",
    "    # Apply initial preprocessing\n",
    "    dataframe = preprocess_text(dataframe)\n",
    "    \n",
    "    # Calculate word frequencies\n",
    "    all_words = ' '.join(dataframe['utterance']).split()\n",
    "    word_frequencies = Counter(all_words)\n",
    "    \n",
    "    # Initialize progress bar\n",
    "    progress = tqdm(total=len(dataframe), desc=\"Processing batches\")\n",
    "    \n",
    "    processed_batches = []\n",
    "    for start_row in range(0, len(dataframe), batch_size):\n",
    "        end_row = start_row + batch_size\n",
    "        batch = dataframe.iloc[start_row:end_row]\n",
    "        processed_batch = preprocess_batch(batch, word_frequencies)\n",
    "        processed_batches.append(processed_batch)\n",
    "        \n",
    "        # Update progress\n",
    "        progress.update(len(batch))\n",
    "        \n",
    "    progress.close()  # Ensure the progress bar is closed after processing\n",
    "    \n",
    "    return pd.concat(processed_batches)\n",
    "\n",
    "# Load the DataFrame\n",
    "df = pd.read_csv('archive/utterances-2sp.csv')\n",
    "\n",
    "# Process the DataFrame\n",
    "df_processed = preprocess_dataframe(df)\n",
    "\n",
    "# Save the processed DataFrame\n",
    "df_processed.to_csv('archive/processed_utterances-2sp.csv', index=False)\n"
   ]
  },
  {
   "cell_type": "code",
   "execution_count": 63,
   "metadata": {},
   "outputs": [],
   "source": [
    "# Split each utterance into a list of words and explode the DataFrame to get a row per word\n",
    "words_series = df_processed['utterance'].str.split().explode()\n",
    "\n",
    "# Convert the series to a set to get unique words\n",
    "unique_words = set(words_series)\n",
    "\n",
    "# get word frequencies\n",
    "word_frequencies = words_series.value_counts().to_dict()"
   ]
  },
  {
   "cell_type": "code",
   "execution_count": 64,
   "metadata": {},
   "outputs": [
    {
     "name": "stdout",
     "output_type": "stream",
     "text": [
      "Number of unique words: 17549\n"
     ]
    },
    {
     "data": {
      "text/plain": [
       "[('the', 943818),\n",
       " ('and', 544649),\n",
       " ('to', 525141),\n",
       " ('a', 524645),\n",
       " ('of', 488369),\n",
       " ('xxxxx', 444125),\n",
       " ('that', 392136),\n",
       " ('in', 353176),\n",
       " ('it', 286517),\n",
       " ('you', 275173)]"
      ]
     },
     "execution_count": 64,
     "metadata": {},
     "output_type": "execute_result"
    }
   ],
   "source": [
    "print(f'Number of unique words: {len(unique_words)}')\n",
    "\n",
    "# sort the words by frequency and display the most common words\n",
    "sorted_word_frequencies = sorted(word_frequencies.items(), key=lambda x: x[1], reverse=True)\n",
    "sorted_word_frequencies[:10]"
   ]
  },
  {
   "cell_type": "markdown",
   "metadata": {},
   "source": [
    "# B"
   ]
  },
  {
   "cell_type": "code",
   "execution_count": 67,
   "metadata": {},
   "outputs": [],
   "source": [
    "episodes = df_processed['episode'].unique()\n",
    "\n",
    "# Split the filtered episodes into training and testing sets\n",
    "train_episodes = np.random.choice(episodes, int(0.8 * len(episodes)), replace=False)\n",
    "train = df_processed[df_processed['episode'].isin(train_episodes)]\n",
    "test = df_processed[~df_processed['episode'].isin(train_episodes)]\n",
    "\n",
    "train_host = train[train['is_host'] == True]\n",
    "train_guest = train[train['is_host'] == False]\n",
    "\n",
    "def get_transition_matrix_efficient(df):\n",
    "    # Split all utterances into words and flatten the list\n",
    "    all_words = df['utterance'].str.split().explode()\n",
    "    unique_words = all_words.unique()\n",
    "    d = len(unique_words)\n",
    "    \n",
    "    # Map each unique word to an index\n",
    "    word_to_index = {word: index for index, word in enumerate(unique_words)}\n",
    "    \n",
    "    # Initialize the transition counts matrix\n",
    "    transition_counts = np.zeros((d, d), dtype=int)\n",
    "    \n",
    "    # Iterate over each utterance\n",
    "    for utterance in df['utterance']:\n",
    "        words = utterance.split()\n",
    "        for i in range(1, len(words)):\n",
    "            word1 = words[i - 1]\n",
    "            word2 = words[i]\n",
    "            if word1 in word_to_index and word2 in word_to_index:  # Check if both words are in the index\n",
    "                index1 = word_to_index[word1]\n",
    "                index2 = word_to_index[word2]\n",
    "                transition_counts[index1, index2] += 1\n",
    "                \n",
    "    # Normalize the transition counts to get probabilities\n",
    "    # To avoid division by zero, add a small number to the denominator\n",
    "    transition_probabilities = transition_counts / (transition_counts.sum(axis=1)[:, np.newaxis] + 1e-10)\n",
    "    \n",
    "    return transition_probabilities, word_to_index\n",
    "\n",
    "# Apply the efficient function to get the transition matrices\n",
    "transition_matrix_host, word_to_index_host = get_transition_matrix_efficient(train_host)\n",
    "transition_matrix_guest, word_to_index_guest = get_transition_matrix_efficient(train_guest)"
   ]
  },
  {
   "cell_type": "code",
   "execution_count": 69,
   "metadata": {},
   "outputs": [
    {
     "data": {
      "text/plain": [
       "((17498, 17498), (17402, 17402))"
      ]
     },
     "execution_count": 69,
     "metadata": {},
     "output_type": "execute_result"
    }
   ],
   "source": [
    "transition_matrix_host.shape, transition_matrix_guest.shape"
   ]
  },
  {
   "cell_type": "markdown",
   "metadata": {},
   "source": [
    "# A"
   ]
  },
  {
   "cell_type": "code",
   "execution_count": 75,
   "metadata": {},
   "outputs": [],
   "source": [
    "def tensor_trouble(df):\n",
    "    # Unique words and mapping\n",
    "    all_words = df['utterance'].str.split().explode()\n",
    "    word_to_index = {word: index for index, word in enumerate(all_words)}\n",
    "    unique_words = all_words.unique()\n",
    "    d = len(unique_words)\n",
    "    \n",
    "    # Map each unique word to an index\n",
    "    word_to_index = {word: index for index, word in enumerate(unique_words)}\n",
    "    \n",
    "    # Initialize the tensor: 2x2xd\n",
    "    tensor = np.zeros((2, 2, d), dtype=int)\n",
    "    \n",
    "    # Group by episodes and concatenate text with speaker roles\n",
    "    for episode, group in df.groupby('episode'):\n",
    "        # Flatten all text into one string per episode\n",
    "        text = \" \".join(group['utterance'])\n",
    "        words = text.split()\n",
    "\n",
    "        # Replicate 'is_host' values for each word in the utterance\n",
    "        roles = np.concatenate(group.apply(lambda row: [row['is_host']] * len(row['utterance'].split()), axis=1).values)\n",
    "        \n",
    "        for i in range(2, len(words)):\n",
    "            # Get the current and next words\n",
    "            word = words[i - 2]\n",
    "            next_role = roles[i - 1]\n",
    "            following_role = roles[i]\n",
    "\n",
    "            # Get the current and next indices\n",
    "            current_index = word_to_index[word]\n",
    "            current_role_index = 0 if next_role else 1\n",
    "            next_role_index = 0 if following_role else 1\n",
    "\n",
    "\n",
    "            \n",
    "            # Skip if any word is not in the index (unlikely given preprocessing, but safe practice)\n",
    "            if current_index == -1:\n",
    "                continue\n",
    "            \n",
    "            # Update the tensor based on speaker transitions\n",
    "            tensor[current_role_index, next_role_index, current_index] += 1\n",
    "\n",
    "    return tensor, word_to_index\n",
    "\n",
    "\n",
    "tensor, word_to_index = tensor_trouble(df)"
   ]
  },
  {
   "cell_type": "code",
   "execution_count": 77,
   "metadata": {},
   "outputs": [
    {
     "data": {
      "text/plain": [
       "(2, 2, 97570)"
      ]
     },
     "execution_count": 77,
     "metadata": {},
     "output_type": "execute_result"
    }
   ],
   "source": [
    "tensor.shape"
   ]
  }
 ],
 "metadata": {
  "kernelspec": {
   "display_name": "Python 3",
   "language": "python",
   "name": "python3"
  },
  "language_info": {
   "codemirror_mode": {
    "name": "ipython",
    "version": 3
   },
   "file_extension": ".py",
   "mimetype": "text/x-python",
   "name": "python",
   "nbconvert_exporter": "python",
   "pygments_lexer": "ipython3",
   "version": "3.10.13"
  }
 },
 "nbformat": 4,
 "nbformat_minor": 2
}
