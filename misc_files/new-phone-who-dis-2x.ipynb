{
 "cells": [
  {
   "cell_type": "markdown",
   "metadata": {},
   "source": [
    "# Data Cleaning\n",
    "\n",
    "Xander de la Bruere, Jakob Gertsch, Sam Layton, Matt Mella, Wilson Stoddard"
   ]
  },
  {
   "cell_type": "code",
   "execution_count": 2,
   "metadata": {},
   "outputs": [],
   "source": [
    "import os\n",
    "import numpy as np\n",
    "import pandas as pd\n",
    "import matplotlib.pyplot as plt\n",
    "from hmmlearn import hmm\n",
    "from sklearn.metrics import confusion_matrix\n",
    "from sklearn.mixture import GaussianMixture\n",
    "from sklearn.cluster import KMeans"
   ]
  },
  {
   "cell_type": "markdown",
   "metadata": {},
   "source": [
    "### Assignment Guidelines\n",
    "\n",
    "For this assignment, you need to report your initial data exploration. Consider some of the following points as examples. Upload a Notebook with comments describing what you discovered. The emphasis here is not on perfect formatting, but on showing that you have done your due diligence in exploring the data and thinking through the consequences of what you see.\n",
    "\n",
    "- Before doing any exploration, consider when and how you plan on holding out data for model evaluation. The gold standard is to have totally independent data you have never seen before tucked away so you can evaluate model performance at the end, but there can be many reasons this may not work. Explain your choice. If you do want to hold out the same data every time, consider fixing a random seed when you make the test-train split.\n",
    "    - Beware that a test set for time-series data is trickier to build than for independent data points.  If you have training data just before and just after the test data point, the correlation between them means the test depends a lot on the training data and hence is a bad test.  At least ensure your test set comes after your training data, and ideally in a separate data-collection session. \n",
    "- Print out a few dozen rows of the data. Is there anything you didn't expect to see? What opportunities for data cleaning and feature engineering may be important? Take care of these things.\n",
    "- Plot a few individual time series and do a similar check. Is there anything unbelievable you see?\n",
    "- How much data is missing? Is the distribution of missing data likely different from the distribution of non-missing data? How might you do a meaningful imputation (if needed)? Are there variables that should be dropped? Implement some initial solutions.\n",
    "- Is there any hint that the data you have collected is differently distributed from the actual application of interest? If so, is there a strategy, such as reweighing samples, that might help?\n",
    "Use a histogram or KDE to visualize the distribution of key variables. Consider log-scaling or other scaling of the axes. How should you think about outliers? Is there a natural scaling for certain variables?\n",
    "- Use 2D and/or 3D plot scatter plots, histograms, or heat maps to look for important relationships between variables. Consider using significance tests, linear model fits, or correlation matrices to clarify relationships.\n",
    "- Does what you see change any of your ideas for what models might be appropriate? Among other things, if your models rely on specific assumptions, is there a way you can check if these assumptions actually hold by looking at the data? If you are using linear models, do the relevant plots look linear? Is there some other scaling where the model assumptions might more nearly hold?"
   ]
  },
  {
   "cell_type": "markdown",
   "metadata": {},
   "source": [
    "### Basic Description of Data\n",
    "\n",
    "Our dataset comes from consists of over 140 thousand radio transcripts from NPR. The episodes come from a span of 20 years between January 1999 and October 2019. The transcribed text represents over 10 thousand hours of audio. The data is stored in a CSV file and is summarized by the table below.\n",
    "\n",
    "| Column | Data Type | Description |\n",
    "| --- | --- | --- |\n",
    "| `episode` | int | The episode number |\n",
    "| `episode_order` | int | The line number within each episode. Note that when a different person begins speaking, the row ends and another begins |\n",
    "| `speaker` | str | The speaker and (usually) their title |\n",
    "| `utterance` | str | A block of transcribed audio |"
   ]
  },
  {
   "cell_type": "markdown",
   "metadata": {},
   "source": [
    "### Data Cleaning for Model Evaluation\n",
    "\n",
    "Out dataset is naturally split into episodes. To evaluate our model, we will leave out a certain percentage of episodes to train the model, then test our model on entire episodes to see how successfully we can identify different speakers. Training on the same episode would fail to provide independent enough data, giving us too much information with the sentence before and after a test sentence.\n",
    "\n",
    "However, by using separate episodes, we are testing on data that comes from a separate data collection session. This essentially matches the indicated gold standard of data, where we will permanently set aside a test set of episodes to train on. The test data is structured the same way as the training data, which will be ideal for evaluating our models on."
   ]
  },
  {
   "cell_type": "code",
   "execution_count": 4,
   "metadata": {},
   "outputs": [
    {
     "name": "stdout",
     "output_type": "stream",
     "text": [
      "/mnt/c/Users/delab/Documents/Repos/new-phone-who-dis\n"
     ]
    }
   ],
   "source": [
    "path = os.getcwd()\n",
    "print(path)\n",
    "df = pd.read_csv(f'{path}/archive/utterances.csv')\n",
    "# remove all speakers labeled as _NO_SPEAKER\n",
    "df = df[df['speaker'] != '_NO_SPEAKER']"
   ]
  },
  {
   "cell_type": "code",
   "execution_count": 5,
   "metadata": {},
   "outputs": [
    {
     "data": {
      "text/html": [
       "<div>\n",
       "<style scoped>\n",
       "    .dataframe tbody tr th:only-of-type {\n",
       "        vertical-align: middle;\n",
       "    }\n",
       "\n",
       "    .dataframe tbody tr th {\n",
       "        vertical-align: top;\n",
       "    }\n",
       "\n",
       "    .dataframe thead th {\n",
       "        text-align: right;\n",
       "    }\n",
       "</style>\n",
       "<table border=\"1\" class=\"dataframe\">\n",
       "  <thead>\n",
       "    <tr style=\"text-align: right;\">\n",
       "      <th></th>\n",
       "      <th>episode</th>\n",
       "      <th>episode_order</th>\n",
       "      <th>speaker</th>\n",
       "      <th>utterance</th>\n",
       "    </tr>\n",
       "  </thead>\n",
       "  <tbody>\n",
       "    <tr>\n",
       "      <th>0</th>\n",
       "      <td>57264</td>\n",
       "      <td>9</td>\n",
       "      <td>Ms. LOREN MOONEY (Editor-in-Chief, Bicycling M...</td>\n",
       "      <td>It's a 2,200-mile race. To give some sense of ...</td>\n",
       "    </tr>\n",
       "    <tr>\n",
       "      <th>1</th>\n",
       "      <td>57264</td>\n",
       "      <td>10</td>\n",
       "      <td>Ms. LOREN MOONEY (Editor-in-Chief, Bicycling M...</td>\n",
       "      <td>So for a top competitor like Lance to try to m...</td>\n",
       "    </tr>\n",
       "    <tr>\n",
       "      <th>2</th>\n",
       "      <td>57264</td>\n",
       "      <td>11</td>\n",
       "      <td>NEAL CONAN, host</td>\n",
       "      <td>So in every team, presumably there's one star,...</td>\n",
       "    </tr>\n",
       "    <tr>\n",
       "      <th>3</th>\n",
       "      <td>57264</td>\n",
       "      <td>12</td>\n",
       "      <td>Ms. LOREN MOONEY (Editor-in-Chief, Bicycling M...</td>\n",
       "      <td>That's right. Each team has nine riders. And w...</td>\n",
       "    </tr>\n",
       "    <tr>\n",
       "      <th>4</th>\n",
       "      <td>57264</td>\n",
       "      <td>13</td>\n",
       "      <td>NEAL CONAN, host</td>\n",
       "      <td>So slipstream, this is like drafting in car ra...</td>\n",
       "    </tr>\n",
       "    <tr>\n",
       "      <th>5</th>\n",
       "      <td>57264</td>\n",
       "      <td>14</td>\n",
       "      <td>Ms. LOREN MOONEY (Editor-in-Chief, Bicycling M...</td>\n",
       "      <td>That's exactly right.</td>\n",
       "    </tr>\n",
       "    <tr>\n",
       "      <th>6</th>\n",
       "      <td>57264</td>\n",
       "      <td>15</td>\n",
       "      <td>NEAL CONAN, host</td>\n",
       "      <td>And so the guy who's in back has an easier tim...</td>\n",
       "    </tr>\n",
       "    <tr>\n",
       "      <th>7</th>\n",
       "      <td>57264</td>\n",
       "      <td>16</td>\n",
       "      <td>Ms. LOREN MOONEY (Editor-in-Chief, Bicycling M...</td>\n",
       "      <td>That's right. There's a lot of deal making tha...</td>\n",
       "    </tr>\n",
       "    <tr>\n",
       "      <th>8</th>\n",
       "      <td>57264</td>\n",
       "      <td>17</td>\n",
       "      <td>NEAL CONAN, host</td>\n",
       "      <td>We're talking with Loren Mooney, the editor-in...</td>\n",
       "    </tr>\n",
       "    <tr>\n",
       "      <th>9</th>\n",
       "      <td>57264</td>\n",
       "      <td>18</td>\n",
       "      <td>JOHN (Caller)</td>\n",
       "      <td>Hello.</td>\n",
       "    </tr>\n",
       "  </tbody>\n",
       "</table>\n",
       "</div>"
      ],
      "text/plain": [
       "   episode  episode_order                                            speaker  \\\n",
       "0    57264              9  Ms. LOREN MOONEY (Editor-in-Chief, Bicycling M...   \n",
       "1    57264             10  Ms. LOREN MOONEY (Editor-in-Chief, Bicycling M...   \n",
       "2    57264             11                                   NEAL CONAN, host   \n",
       "3    57264             12  Ms. LOREN MOONEY (Editor-in-Chief, Bicycling M...   \n",
       "4    57264             13                                   NEAL CONAN, host   \n",
       "5    57264             14  Ms. LOREN MOONEY (Editor-in-Chief, Bicycling M...   \n",
       "6    57264             15                                   NEAL CONAN, host   \n",
       "7    57264             16  Ms. LOREN MOONEY (Editor-in-Chief, Bicycling M...   \n",
       "8    57264             17                                   NEAL CONAN, host   \n",
       "9    57264             18                                      JOHN (Caller)   \n",
       "\n",
       "                                           utterance  \n",
       "0  It's a 2,200-mile race. To give some sense of ...  \n",
       "1  So for a top competitor like Lance to try to m...  \n",
       "2  So in every team, presumably there's one star,...  \n",
       "3  That's right. Each team has nine riders. And w...  \n",
       "4  So slipstream, this is like drafting in car ra...  \n",
       "5                              That's exactly right.  \n",
       "6  And so the guy who's in back has an easier tim...  \n",
       "7  That's right. There's a lot of deal making tha...  \n",
       "8  We're talking with Loren Mooney, the editor-in...  \n",
       "9                                             Hello.  "
      ]
     },
     "metadata": {},
     "output_type": "display_data"
    }
   ],
   "source": [
    "display(df.head(10))"
   ]
  },
  {
   "cell_type": "code",
   "execution_count": 6,
   "metadata": {},
   "outputs": [
    {
     "name": "stdout",
     "output_type": "stream",
     "text": [
      "Episode: 57264\n",
      "Speakers: 6\n"
     ]
    },
    {
     "data": {
      "image/png": "[encoded data removed]",
      "text/plain": [
       "<Figure size 432x288 with 1 Axes>"
      ]
     },
     "metadata": {
      "needs_background": "light"
     },
     "output_type": "display_data"
    },
    {
     "name": "stdout",
     "output_type": "stream",
     "text": [
      "Episode: 58225\n",
      "Speakers: 8\n"
     ]
    },
    {
     "data": {
      "image/png": "[encoded data removed]",
      "text/plain": [
       "<Figure size 432x288 with 1 Axes>"
      ]
     },
     "metadata": {
      "needs_background": "light"
     },
     "output_type": "display_data"
    },
    {
     "name": "stdout",
     "output_type": "stream",
     "text": [
      "Episode: 75004\n",
      "Speakers: 4\n"
     ]
    },
    {
     "data": {
      "image/png": "[encoded data removed]",
      "text/plain": [
       "<Figure size 432x288 with 1 Axes>"
      ]
     },
     "metadata": {
      "needs_background": "light"
     },
     "output_type": "display_data"
    },
    {
     "name": "stdout",
     "output_type": "stream",
     "text": [
      "Episode: 74884\n",
      "Speakers: 2\n"
     ]
    },
    {
     "data": {
      "image/png": "[encoded data removed]",
      "text/plain": [
       "<Figure size 432x288 with 1 Axes>"
      ]
     },
     "metadata": {
      "needs_background": "light"
     },
     "output_type": "display_data"
    }
   ],
   "source": [
    "def plot_speaker_distribution_for_episode(df, episode):\n",
    "\n",
    "    # print the episode\n",
    "    print('Episode:', episode)\n",
    "\n",
    "    # Filter the dataframe for the specific episode\n",
    "    df_episode = df[df['episode'] == episode]\n",
    "\n",
    "    # print the amount of speakers\n",
    "    print('Speakers:', len(df_episode['speaker'].unique()))\n",
    "\n",
    "    # Group by 'speaker' and count the number of rows\n",
    "    speaker_counts = df_episode['speaker'].value_counts()\n",
    "\n",
    "    # Plot a bar chart\n",
    "    speaker_counts.plot(kind='bar')\n",
    "    plt.ylabel('Number of utterances')\n",
    "    plt.title(f'Distribution of utterances per speaker for episode {episode}')\n",
    "    plt.show()\n",
    "\n",
    "# iterate through the first 10 episodes\n",
    "for episode in df['episode'].unique()[:4]:\n",
    "    plot_speaker_distribution_for_episode(df, episode)"
   ]
  },
  {
   "cell_type": "markdown",
   "metadata": {},
   "source": [
    "### We will find that the distribution of speakers is not equally split. Because many of these conversations are interviews, we will find one speaker overwhelmingly dominates the conversation. Further, outside callers into the show will imply that the members of a conversation vary as callers join and leave the conversation"
   ]
  },
  {
   "cell_type": "markdown",
   "metadata": {},
   "source": [
    "# OK here's a distribution of number of words per utterance!!!"
   ]
  },
  {
   "cell_type": "code",
   "execution_count": 7,
   "metadata": {},
   "outputs": [
    {
     "data": {
      "image/png": "[encoded data removed]",
      "text/plain": [
       "<Figure size 432x288 with 1 Axes>"
      ]
     },
     "metadata": {
      "needs_background": "light"
     },
     "output_type": "display_data"
    }
   ],
   "source": [
    "# Redo the index and ensure all utterances are strings, then calculate the word count\n",
    "df = df.reset_index()\n",
    "df['utterance'] = df['utterance'].astype(str)\n",
    "df['word_count']=np.array([len(df['utterance'][i].split()) for i in range(len(df))])\n",
    "\n",
    "# Plot a histogram showing the relative distribution of word counts across utterances\n",
    "plt.hist(df['word_count'],bins=[0,20,40,60,80,100,120,140,160])\n",
    "plt.xlabel(\"Number of Words in Utterance\")\n",
    "plt.title(\"Utterance Average Word Count\")\n",
    "plt.show()"
   ]
  },
  {
   "cell_type": "code",
   "execution_count": 9,
   "metadata": {},
   "outputs": [],
   "source": [
    "df2sp = pd.read_csv('archive/utterances-2sp.csv')"
   ]
  },
  {
   "cell_type": "code",
   "execution_count": 10,
   "metadata": {},
   "outputs": [
    {
     "data": {
      "text/html": [
       "<div>\n",
       "<style scoped>\n",
       "    .dataframe tbody tr th:only-of-type {\n",
       "        vertical-align: middle;\n",
       "    }\n",
       "\n",
       "    .dataframe tbody tr th {\n",
       "        vertical-align: top;\n",
       "    }\n",
       "\n",
       "    .dataframe thead th {\n",
       "        text-align: right;\n",
       "    }\n",
       "</style>\n",
       "<table border=\"1\" class=\"dataframe\">\n",
       "  <thead>\n",
       "    <tr style=\"text-align: right;\">\n",
       "      <th></th>\n",
       "      <th>episode</th>\n",
       "      <th>episode_order</th>\n",
       "      <th>turn_order</th>\n",
       "      <th>speaker_order</th>\n",
       "      <th>host_id</th>\n",
       "      <th>is_host</th>\n",
       "      <th>utterance</th>\n",
       "    </tr>\n",
       "  </thead>\n",
       "  <tbody>\n",
       "    <tr>\n",
       "      <th>0</th>\n",
       "      <td>1</td>\n",
       "      <td>1</td>\n",
       "      <td>0</td>\n",
       "      <td>0</td>\n",
       "      <td>0</td>\n",
       "      <td>True</td>\n",
       "      <td>The impeachment inquiry picks up tomorrow wher...</td>\n",
       "    </tr>\n",
       "    <tr>\n",
       "      <th>1</th>\n",
       "      <td>1</td>\n",
       "      <td>1</td>\n",
       "      <td>1</td>\n",
       "      <td>0</td>\n",
       "      <td>0</td>\n",
       "      <td>True</td>\n",
       "      <td>Just this morning, the lawyer for the whistleb...</td>\n",
       "    </tr>\n",
       "    <tr>\n",
       "      <th>2</th>\n",
       "      <td>1</td>\n",
       "      <td>1</td>\n",
       "      <td>2</td>\n",
       "      <td>0</td>\n",
       "      <td>0</td>\n",
       "      <td>True</td>\n",
       "      <td>There's are a lot of moving parts.</td>\n",
       "    </tr>\n",
       "    <tr>\n",
       "      <th>3</th>\n",
       "      <td>1</td>\n",
       "      <td>1</td>\n",
       "      <td>3</td>\n",
       "      <td>0</td>\n",
       "      <td>0</td>\n",
       "      <td>True</td>\n",
       "      <td>Fortunately, NPR's Mara Liasson is here to help.</td>\n",
       "    </tr>\n",
       "    <tr>\n",
       "      <th>4</th>\n",
       "      <td>1</td>\n",
       "      <td>2</td>\n",
       "      <td>0</td>\n",
       "      <td>0</td>\n",
       "      <td>0</td>\n",
       "      <td>True</td>\n",
       "      <td>Good morning.</td>\n",
       "    </tr>\n",
       "    <tr>\n",
       "      <th>5</th>\n",
       "      <td>1</td>\n",
       "      <td>3</td>\n",
       "      <td>0</td>\n",
       "      <td>1</td>\n",
       "      <td>-1</td>\n",
       "      <td>False</td>\n",
       "      <td>Good morning, Lulu.</td>\n",
       "    </tr>\n",
       "    <tr>\n",
       "      <th>6</th>\n",
       "      <td>1</td>\n",
       "      <td>4</td>\n",
       "      <td>0</td>\n",
       "      <td>0</td>\n",
       "      <td>0</td>\n",
       "      <td>True</td>\n",
       "      <td>All right.</td>\n",
       "    </tr>\n",
       "    <tr>\n",
       "      <th>7</th>\n",
       "      <td>1</td>\n",
       "      <td>4</td>\n",
       "      <td>1</td>\n",
       "      <td>0</td>\n",
       "      <td>0</td>\n",
       "      <td>True</td>\n",
       "      <td>What's the latest?</td>\n",
       "    </tr>\n",
       "    <tr>\n",
       "      <th>8</th>\n",
       "      <td>1</td>\n",
       "      <td>5</td>\n",
       "      <td>0</td>\n",
       "      <td>1</td>\n",
       "      <td>-1</td>\n",
       "      <td>False</td>\n",
       "      <td>Well, the latest is that the lawyer for the fi...</td>\n",
       "    </tr>\n",
       "    <tr>\n",
       "      <th>9</th>\n",
       "      <td>1</td>\n",
       "      <td>5</td>\n",
       "      <td>1</td>\n",
       "      <td>1</td>\n",
       "      <td>-1</td>\n",
       "      <td>False</td>\n",
       "      <td>The first whistleblower only had second and th...</td>\n",
       "    </tr>\n",
       "  </tbody>\n",
       "</table>\n",
       "</div>"
      ],
      "text/plain": [
       "   episode  episode_order  turn_order  speaker_order  host_id  is_host   \n",
       "0        1              1           0              0        0     True  \\\n",
       "1        1              1           1              0        0     True   \n",
       "2        1              1           2              0        0     True   \n",
       "3        1              1           3              0        0     True   \n",
       "4        1              2           0              0        0     True   \n",
       "5        1              3           0              1       -1    False   \n",
       "6        1              4           0              0        0     True   \n",
       "7        1              4           1              0        0     True   \n",
       "8        1              5           0              1       -1    False   \n",
       "9        1              5           1              1       -1    False   \n",
       "\n",
       "                                           utterance  \n",
       "0  The impeachment inquiry picks up tomorrow wher...  \n",
       "1  Just this morning, the lawyer for the whistleb...  \n",
       "2                 There's are a lot of moving parts.  \n",
       "3   Fortunately, NPR's Mara Liasson is here to help.  \n",
       "4                                      Good morning.  \n",
       "5                                Good morning, Lulu.  \n",
       "6                                         All right.  \n",
       "7                                 What's the latest?  \n",
       "8  Well, the latest is that the lawyer for the fi...  \n",
       "9  The first whistleblower only had second and th...  "
      ]
     },
     "metadata": {},
     "output_type": "display_data"
    }
   ],
   "source": [
    "display(df2sp.head(10))"
   ]
  },
  {
   "cell_type": "markdown",
   "metadata": {},
   "source": [
    "### This is an alternative dataset of just 2-person conversations. This dataset limits what we are modeling to just 2 different speakers, but will avoid the issue of variable participants in a conversation"
   ]
  },
  {
   "cell_type": "code",
   "execution_count": 4,
   "metadata": {},
   "outputs": [
    {
     "name": "stdout",
     "output_type": "stream",
     "text": [
      "3015435\n"
     ]
    },
    {
     "data": {
      "text/html": [
       "<div>\n",
       "<style scoped>\n",
       "    .dataframe tbody tr th:only-of-type {\n",
       "        vertical-align: middle;\n",
       "    }\n",
       "\n",
       "    .dataframe tbody tr th {\n",
       "        vertical-align: top;\n",
       "    }\n",
       "\n",
       "    .dataframe thead th {\n",
       "        text-align: right;\n",
       "    }\n",
       "</style>\n",
       "<table border=\"1\" class=\"dataframe\">\n",
       "  <thead>\n",
       "    <tr style=\"text-align: right;\">\n",
       "      <th></th>\n",
       "      <th>episode</th>\n",
       "      <th>episode_order</th>\n",
       "      <th>speaker</th>\n",
       "      <th>utterance</th>\n",
       "    </tr>\n",
       "  </thead>\n",
       "  <tbody>\n",
       "    <tr>\n",
       "      <th>0</th>\n",
       "      <td>57264</td>\n",
       "      <td>9</td>\n",
       "      <td>Ms. LOREN MOONEY (Editor-in-Chief, Bicycling M...</td>\n",
       "      <td>It's a 2,200-mile race. To give some sense of ...</td>\n",
       "    </tr>\n",
       "    <tr>\n",
       "      <th>1</th>\n",
       "      <td>57264</td>\n",
       "      <td>10</td>\n",
       "      <td>Ms. LOREN MOONEY (Editor-in-Chief, Bicycling M...</td>\n",
       "      <td>So for a top competitor like Lance to try to m...</td>\n",
       "    </tr>\n",
       "    <tr>\n",
       "      <th>2</th>\n",
       "      <td>57264</td>\n",
       "      <td>11</td>\n",
       "      <td>NEAL CONAN, host</td>\n",
       "      <td>So in every team, presumably there's one star,...</td>\n",
       "    </tr>\n",
       "    <tr>\n",
       "      <th>3</th>\n",
       "      <td>57264</td>\n",
       "      <td>12</td>\n",
       "      <td>Ms. LOREN MOONEY (Editor-in-Chief, Bicycling M...</td>\n",
       "      <td>That's right. Each team has nine riders. And w...</td>\n",
       "    </tr>\n",
       "    <tr>\n",
       "      <th>4</th>\n",
       "      <td>57264</td>\n",
       "      <td>13</td>\n",
       "      <td>NEAL CONAN, host</td>\n",
       "      <td>So slipstream, this is like drafting in car ra...</td>\n",
       "    </tr>\n",
       "    <tr>\n",
       "      <th>...</th>\n",
       "      <td>...</td>\n",
       "      <td>...</td>\n",
       "      <td>...</td>\n",
       "      <td>...</td>\n",
       "    </tr>\n",
       "    <tr>\n",
       "      <th>3199423</th>\n",
       "      <td>57264</td>\n",
       "      <td>4</td>\n",
       "      <td>NEAL CONAN, host</td>\n",
       "      <td>Joining us now from our bureau in New York is ...</td>\n",
       "    </tr>\n",
       "    <tr>\n",
       "      <th>3199424</th>\n",
       "      <td>57264</td>\n",
       "      <td>5</td>\n",
       "      <td>Ms. LOREN MOONEY (Editor-in-Chief, Bicycling M...</td>\n",
       "      <td>Thanks for having me.</td>\n",
       "    </tr>\n",
       "    <tr>\n",
       "      <th>3199425</th>\n",
       "      <td>57264</td>\n",
       "      <td>6</td>\n",
       "      <td>NEAL CONAN, host</td>\n",
       "      <td>And I've got my copy of Bicycling Magazine, an...</td>\n",
       "    </tr>\n",
       "    <tr>\n",
       "      <th>3199426</th>\n",
       "      <td>57264</td>\n",
       "      <td>7</td>\n",
       "      <td>Ms. LOREN MOONEY (Editor-in-Chief, Bicycling M...</td>\n",
       "      <td>Well, yes, it's true. Actually, the race did b...</td>\n",
       "    </tr>\n",
       "    <tr>\n",
       "      <th>3199427</th>\n",
       "      <td>57264</td>\n",
       "      <td>8</td>\n",
       "      <td>NEAL CONAN, host</td>\n",
       "      <td>Well, this is a race that lasts 2,000 miles. T...</td>\n",
       "    </tr>\n",
       "  </tbody>\n",
       "</table>\n",
       "<p>80 rows × 4 columns</p>\n",
       "</div>"
      ],
      "text/plain": [
       "         episode  episode_order   \n",
       "0          57264              9  \\\n",
       "1          57264             10   \n",
       "2          57264             11   \n",
       "3          57264             12   \n",
       "4          57264             13   \n",
       "...          ...            ...   \n",
       "3199423    57264              4   \n",
       "3199424    57264              5   \n",
       "3199425    57264              6   \n",
       "3199426    57264              7   \n",
       "3199427    57264              8   \n",
       "\n",
       "                                                   speaker   \n",
       "0        Ms. LOREN MOONEY (Editor-in-Chief, Bicycling M...  \\\n",
       "1        Ms. LOREN MOONEY (Editor-in-Chief, Bicycling M...   \n",
       "2                                         NEAL CONAN, host   \n",
       "3        Ms. LOREN MOONEY (Editor-in-Chief, Bicycling M...   \n",
       "4                                         NEAL CONAN, host   \n",
       "...                                                    ...   \n",
       "3199423                                   NEAL CONAN, host   \n",
       "3199424  Ms. LOREN MOONEY (Editor-in-Chief, Bicycling M...   \n",
       "3199425                                   NEAL CONAN, host   \n",
       "3199426  Ms. LOREN MOONEY (Editor-in-Chief, Bicycling M...   \n",
       "3199427                                   NEAL CONAN, host   \n",
       "\n",
       "                                                 utterance  \n",
       "0        It's a 2,200-mile race. To give some sense of ...  \n",
       "1        So for a top competitor like Lance to try to m...  \n",
       "2        So in every team, presumably there's one star,...  \n",
       "3        That's right. Each team has nine riders. And w...  \n",
       "4        So slipstream, this is like drafting in car ra...  \n",
       "...                                                    ...  \n",
       "3199423  Joining us now from our bureau in New York is ...  \n",
       "3199424                              Thanks for having me.  \n",
       "3199425  And I've got my copy of Bicycling Magazine, an...  \n",
       "3199426  Well, yes, it's true. Actually, the race did b...  \n",
       "3199427  Well, this is a race that lasts 2,000 miles. T...  \n",
       "\n",
       "[80 rows x 4 columns]"
      ]
     },
     "metadata": {},
     "output_type": "display_data"
    }
   ],
   "source": [
    "# remove all speakers labeled as _NO_SPEAKER\n",
    "df = df[df['speaker'] != '_NO_SPEAKER']\n",
    "print(len(df))\n",
    "\n",
    "# group by episode\n",
    "episodes = df.groupby('episode')\n",
    "\n",
    "# show the first episode, 57264\n",
    "display(episodes.get_group(57264))"
   ]
  },
  {
   "cell_type": "code",
   "execution_count": null,
   "metadata": {},
   "outputs": [],
   "source": []
  }
 ],
 "metadata": {
  "kernelspec": {
   "display_name": "Python 3",
   "language": "python",
   "name": "python3"
  },
  "language_info": {
   "codemirror_mode": {
    "name": "ipython",
    "version": 3
   },
   "file_extension": ".py",
   "mimetype": "text/x-python",
   "name": "python",
   "nbconvert_exporter": "python",
   "pygments_lexer": "ipython3",
   "version": "3.10.12"
  }
 },
 "nbformat": 4,
 "nbformat_minor": 2
}
